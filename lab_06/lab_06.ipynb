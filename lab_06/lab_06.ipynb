{
 "cells": [
  {
   "cell_type": "markdown",
   "metadata": {
    "colab_type": "text",
    "id": "TZBTJY39Bqi9"
   },
   "source": [
    "<img align=\"right\" style=\"max-width: 200px; height: auto\" src=\"./fs_logo.png\">\n",
    "\n",
    "##  Lab 06 - Adversarial Deep Learning\n",
    "\n",
    "Seminar Künstliche Intelligenz, Frankfurt School, 2022"
   ]
  },
  {
   "cell_type": "markdown",
   "metadata": {
    "colab_type": "text",
    "id": "BSFSdKo2Bqi_"
   },
   "source": [
    "Die Analysen des Seminars **Künstliche Intelligenz** des Zertifikatstudiengangs **Certified Audit Data Scientist (CADS)** basieren auf Jupyter Notebook. Anhand solcher Notebooks ist es möglich eine Vielzahl von Datenanalysen und statistischen Validierungen durchzuführen."
   ]
  },
  {
   "cell_type": "markdown",
   "metadata": {},
   "source": [
    "<img align=\"center\" style=\"max-width: 700px\" src=\"./lab_06_banner.png\">"
   ]
  },
  {
   "cell_type": "markdown",
   "metadata": {},
   "source": [
    "Im letzten Lab haben Sie die verschiedenen Elemente eines Unsupervised Deep Learning Workflow kennengelernt z.B. Datenaufbereitung, Modell Training und Modell Validierung. In diesem sechsten Lab werden wir Jupyter Notebook verwenden, um ein weiteres **Deep Learning basiertes Audit-Analyseverfahren** zu implementieren und anzuwenden.\n",
    "\n",
    "Hierzu werden wir die im Seminar vorgestellten Adversarial Autoencoder Neural Networks (Ad-AENNs) anwenden um (1) zunächst die generativen Prozesse einer Finanzbuchhaltung und (2) anschliessend entsprechende Prozessanomalien zu detektieren. Im Gegensatz zu klassischen Autoencoder Netzen lernen AENNs, die Eingabedaten in eine niedrig-dimensionale Repräsentation zu **encodieren**.  Gleichzeitig lernt das AENN, die ursprünglichen Daten wieder aus der enkodierten Repräsentation zu **dekodieren**. \n",
    "\n",
    "Die dekodierten Daten, die in der Regel als **Rekonstruktion** bezeichnet werden, sollten eine grosse Ähnlichkeit zu den ursprünglichen **Eingabedaten** aufweisen. Die Buchungssätze, für welche eine erfolgreiche Rekonstruktion nur fehlerhaft gelingt müssen deshalb eine oder mehrere ungewöhnliche Eigenschaften aufweisen. Die nachstehende Abbildung zeigt einen Überblick über den Deep Learning Prozess bzw. die AENN Netzarchitektur, welche wir in diesem Lab implementieren."
   ]
  },
  {
   "cell_type": "markdown",
   "metadata": {},
   "source": [
    "<img align=\"center\" style=\"max-width: 900px\" src=\"./process.png\">"
   ]
  },
  {
   "cell_type": "markdown",
   "metadata": {},
   "source": [
    "Im Rahmen des Lab werden wir wieder einige Funktionen der `PyTorch` Bibliothek nutzen, um das AENN zu implementieren und zu trainieren. Im Laufe des Trainingsprozess soll das AENN die charakteristische Eigenschaften historischer **Buchungen** bzw. **Journal Entries** lernen. Nach erfolgreichen Modelltraining, werden wir das Modell anwenden, um anhand des Rekonstruktionsfehlers ungewöhnliche Buchungen innerhalb des Datensatzes zu detektieren. Abschliessend werden wir die gelernten **Repräsentationen** der einzelnen Journaleinträge dazu verwenden, um die erhaltenen Ergebnisse noch aussagekräftiger zu interpretieren."
   ]
  },
  {
   "cell_type": "markdown",
   "metadata": {},
   "source": [
    "Bei etwaigen Fragen wenden Sie sich, wie immer gerne an uns via **marco (dot) schreyer (at) unisg (dot) ch**. Wir wünschen Ihnen Viel Freude mit unseren Notebooks und Ihren revisorischen Analysen!"
   ]
  },
  {
   "cell_type": "markdown",
   "metadata": {},
   "source": [
    "## Lernziele des Labs:"
   ]
  },
  {
   "cell_type": "markdown",
   "metadata": {},
   "source": [
    "Nach der heutigen Übung sollten Sie in der Lage sein:\n",
    "\n",
    ">1. Die **Grundkonzepte, Funktionsweise und Bestandteile** von Adversarial Autoencoder Netzen zu verstehen.\n",
    ">2. Eine **Vorverarbeitung** von kategorischen Finanzdaten (d.h. One-Hot Encoding und Min-Max Normalisierung) durchzuführen. \n",
    ">3. Adversarial Autoencoder Netze anzuwenden, um **Anomalien** in umfangreichen Finanzdaten aufzuspüren.\n",
    ">4. Die **Ergebnisse** bzw. den Latenten Raum von Adversarial Autoencoder Netzen zu interpretieren."
   ]
  },
  {
   "cell_type": "markdown",
   "metadata": {},
   "source": [
    "## 1. Einrichten der Analyseumgebung"
   ]
  },
  {
   "cell_type": "markdown",
   "metadata": {},
   "source": [
    "Ähnlich wie in den vorangegangenen Übungen werden wir zunächst eine Reihe von Python-Bibliotheken importieren, welche die Datenanalyse und -visualisierung ermöglichen. In dieser Übung werden wir die Bibliotheken `PyTorch`, `Pandas`, `Numpy`, `Scikit-Learn`, `Matplotlib` und `Seaborn` verwenden. Nachfolgend importieren wir die benötigten Bibliotheken durch die Ausführung der folgenden Anweisungen:"
   ]
  },
  {
   "cell_type": "code",
   "execution_count": 1,
   "metadata": {},
   "outputs": [],
   "source": [
    "# import python data science and utility libraries\n",
    "import os, sys, itertools, urllib, io, warnings\n",
    "import datetime as dt\n",
    "import pandas as pd\n",
    "import pandas_datareader as dr\n",
    "import numpy as np"
   ]
  },
  {
   "cell_type": "markdown",
   "metadata": {},
   "source": [
    "Import der `PyTorch` Deep Learning Bibliotheken:"
   ]
  },
  {
   "cell_type": "code",
   "execution_count": 2,
   "metadata": {},
   "outputs": [
    {
     "name": "stderr",
     "output_type": "stream",
     "text": [
      "/usr/local/lib/python3.10/site-packages/tqdm/auto.py:22: TqdmWarning: IProgress not found. Please update jupyter and ipywidgets. See https://ipywidgets.readthedocs.io/en/stable/user_install.html\n",
      "  from .autonotebook import tqdm as notebook_tqdm\n"
     ]
    }
   ],
   "source": [
    "# pytorch libraries\n",
    "import torch\n",
    "import torch.nn as nn\n",
    "import torch.optim as optim\n",
    "from torch.utils import data\n",
    "from torch.utils.data import dataloader"
   ]
  },
  {
   "cell_type": "markdown",
   "metadata": {},
   "source": [
    "Import der `Matplotlib` und `Seaborn` Visualisierungs Bibliotheken und setzen der Visualisierungsparameter:"
   ]
  },
  {
   "cell_type": "code",
   "execution_count": 3,
   "metadata": {},
   "outputs": [
    {
     "name": "stderr",
     "output_type": "stream",
     "text": [
      "/var/folders/pt/jww8lsls64d06ktzyr_p0ww00000gn/T/ipykernel_99766/3264773936.py:3: MatplotlibDeprecationWarning: The seaborn styles shipped by Matplotlib are deprecated since 3.6, as they no longer correspond to the styles shipped by seaborn. However, they will remain available as 'seaborn-v0_8-<style>'. Alternatively, directly use the seaborn API instead.\n",
      "  plt.style.use('seaborn')\n"
     ]
    }
   ],
   "source": [
    "import matplotlib.pyplot as plt\n",
    "import seaborn as sns\n",
    "plt.style.use('seaborn')\n",
    "plt.rcParams['figure.figsize'] = [10, 5]\n",
    "plt.rcParams['figure.dpi']= 150"
   ]
  },
  {
   "cell_type": "markdown",
   "metadata": {},
   "source": [
    "Ausschalten möglicher Warnmeldungen z.B. aufgrund von zukünftigen Änderungen der Bibliotheken:"
   ]
  },
  {
   "cell_type": "code",
   "execution_count": 4,
   "metadata": {},
   "outputs": [],
   "source": [
    "# set the warning filter flag to ignore warnings\n",
    "warnings.filterwarnings('ignore')"
   ]
  },
  {
   "cell_type": "markdown",
   "metadata": {},
   "source": [
    "Aktivieren der sog. Inline-Darstellung von Visualisierungen in Jupyter-Notebook:"
   ]
  },
  {
   "cell_type": "code",
   "execution_count": 5,
   "metadata": {},
   "outputs": [],
   "source": [
    "%matplotlib inline"
   ]
  },
  {
   "cell_type": "markdown",
   "metadata": {},
   "source": [
    "Erstellen von Unterverzeichnissen innerhalb des aktuellen Arbeitsverzeichnisses für (1) das Speichern der Originaldaten, (2) der Analyseergebnisse und (3) der trainierten Modelle:"
   ]
  },
  {
   "cell_type": "code",
   "execution_count": 6,
   "metadata": {},
   "outputs": [],
   "source": [
    "# create the data sub-directory\n",
    "data_directory = './01_data'\n",
    "if not os.path.exists(data_directory): os.makedirs(data_directory)\n",
    "    \n",
    "# create the results sub-directory\n",
    "results_directory = './02_results'\n",
    "if not os.path.exists(results_directory): os.makedirs(results_directory)\n",
    "\n",
    "# create the models sub-directory\n",
    "models_directory = './03_models'\n",
    "if not os.path.exists(models_directory): os.makedirs(models_directory) "
   ]
  },
  {
   "cell_type": "markdown",
   "metadata": {},
   "source": [
    "Festlegen eines zufälligen Seeds zur Gewährleistung der Reproduzierbarkeit:"
   ]
  },
  {
   "cell_type": "code",
   "execution_count": 7,
   "metadata": {},
   "outputs": [],
   "source": [
    "# init deterministic seed\n",
    "seed_value = 1234\n",
    "np.random.seed(seed_value) # set numpy seed\n",
    "torch.manual_seed(seed_value); # set pytorch seed cpu"
   ]
  },
  {
   "cell_type": "markdown",
   "metadata": {},
   "source": [
    "Aktivieren des GPU Computing, durch setzen des `device` flag und setzen eines zufälligen `CUDA` Seeds:"
   ]
  },
  {
   "cell_type": "code",
   "execution_count": 8,
   "metadata": {},
   "outputs": [
    {
     "name": "stdout",
     "output_type": "stream",
     "text": [
      "[LOG 2022.12.08-20:08:58] notebook with cpu computation enabled\n"
     ]
    }
   ],
   "source": [
    "# set cpu or gpu enabled device\n",
    "device = torch.device('cuda' if torch.cuda.is_available() else 'cpu').type\n",
    "\n",
    "# set pytorch gpu seed\n",
    "torch.cuda.manual_seed(seed_value)\n",
    "\n",
    "# log type of device enabled\n",
    "now = dt.datetime.utcnow().strftime(\"%Y.%m.%d-%H:%M:%S\")\n",
    "print('[LOG {}] notebook with {} computation enabled'.format(str(now), str(device)))"
   ]
  },
  {
   "cell_type": "markdown",
   "metadata": {},
   "source": [
    "Anzeige der Hardware Informationen zu den ggf. verfügbaren GPU(s):"
   ]
  },
  {
   "cell_type": "code",
   "execution_count": 9,
   "metadata": {},
   "outputs": [
    {
     "name": "stdout",
     "output_type": "stream",
     "text": [
      "/bin/bash: nvidia-smi: command not found\r\n"
     ]
    }
   ],
   "source": [
    "!nvidia-smi"
   ]
  },
  {
   "cell_type": "markdown",
   "metadata": {},
   "source": [
    "Anzeige der Software Informationen über die verfügbaren `Python` bzw. `PyTorch` Versionen:"
   ]
  },
  {
   "cell_type": "code",
   "execution_count": 10,
   "metadata": {},
   "outputs": [
    {
     "name": "stdout",
     "output_type": "stream",
     "text": [
      "[LOG 2022.12.08-20:09:00] The Python version: 3.10.6 (main, Aug 30 2022, 05:12:36) [Clang 13.1.6 (clang-1316.0.21.2.5)]\n"
     ]
    }
   ],
   "source": [
    "# print current Python version\n",
    "now = dt.datetime.utcnow().strftime(\"%Y.%m.%d-%H:%M:%S\")\n",
    "print('[LOG {}] The Python version: {}'.format(now, sys.version))"
   ]
  },
  {
   "cell_type": "code",
   "execution_count": 11,
   "metadata": {},
   "outputs": [
    {
     "name": "stdout",
     "output_type": "stream",
     "text": [
      "[LOG 2022.12.08-20:09:01] The PyTorch version: 1.12.1\n"
     ]
    }
   ],
   "source": [
    "# print current PyTorch version\n",
    "now = dt.datetime.utcnow().strftime(\"%Y.%m.%d-%H:%M:%S\")\n",
    "print('[LOG {}] The PyTorch version: {}'.format(now, torch.__version__))"
   ]
  },
  {
   "cell_type": "markdown",
   "metadata": {},
   "source": [
    "## 2. Datenakquise und Datenaufbereitung"
   ]
  },
  {
   "cell_type": "markdown",
   "metadata": {},
   "source": [
    "Heutzutage beschleunigen Unternehmen die Digitalisierung von Geschäftsprozessen, wovon auch Enterprise Resource Planning (ERP)-Systeme betroffen sind. Diese Systeme sammeln grosse Mengen Daten auf granularer Ebene. Dies gilt insbesondere für die Journalbuchungen einer Organisation, die innerhalb des Hauptbuch und den jeweiligen Nebenbüchern erfasst werden.\n",
    "\n",
    "Die Darstellung in **Abbildung 1** zeigt eine hierarchische Ansicht eines ERP-Systems, das Journalbuchungen in Datenbanktabellen erfasst. Im Kontext revisorischer Prüfungen können die in solchen Systemen erfassten Daten Spuren bzw. wertvolle Hinweise auf mögliche dolose Handlungen enthalten."
   ]
  },
  {
   "cell_type": "markdown",
   "metadata": {},
   "source": [
    "<img align=\"middle\" style=\"max-width: 600px; height: auto\" src=\"./accounting.png\">"
   ]
  },
  {
   "cell_type": "markdown",
   "metadata": {},
   "source": [
    "**Abbildung 1:** Hierarchische Ansicht eines Enterprise Resource Planning (ERP)-Systems, das Geschäftsvorfälle auf verschiedene Abstraktionsebenen in Datenbanktabellen erfasst, d.h. auf Ebene (1) des Geschäftsprozesses, (2) der Buchhaltung sowie (3) der Datenbank."
   ]
  },
  {
   "cell_type": "markdown",
   "metadata": {},
   "source": [
    "Zunächst werden wir den im Rahmen des Labs verwendeten Datensatzes deskriptiv analysieren. Anschliessend werden wir die Daten vorverarbeiten um eine Ausgangslage für das Training eines Neuronalen Netzes zu schaffen. Der Lab Datensatz basiert auf einer angepassten Teilmenge des **\"Synthetic Financial Dataset For Fraud Detection \"** Datensatz von Lopez-Rojas. Der Originaldatensatz wurde ursprünglich über die Kaggle-Plattform für Data Science Wettbewerbe veröffentlicht und kann über den nachfolgenden Link abgerufen werden kann: https://www.kaggle.com/ntnu-testimon/paysim1.\n",
    "\n",
    "In einem ersten Schritt laden wir den Datensatz in unsere Analyseumgebung:"
   ]
  },
  {
   "cell_type": "code",
   "execution_count": 12,
   "metadata": {},
   "outputs": [],
   "source": [
    "# load the dataset into the notebook\n",
    "url = 'https://raw.githubusercontent.com/GitiHubi/CADS/main/lab_06/fraud_dataset_v2.csv'\n",
    "ori_dataset = pd.read_csv(url)"
   ]
  },
  {
   "cell_type": "markdown",
   "metadata": {},
   "source": [
    "Anschliessend prüfen wir die Dimensionalität des Datensatzes:"
   ]
  },
  {
   "cell_type": "code",
   "execution_count": 13,
   "metadata": {},
   "outputs": [
    {
     "name": "stdout",
     "output_type": "stream",
     "text": [
      "[LOG 2022.12.08-20:09:11] transactional dataset of 533009 rows and 10 columns retreived.\n"
     ]
    }
   ],
   "source": [
    "# inspect the datasets dimensionalities\n",
    "now = dt.datetime.utcnow().strftime(\"%Y.%m.%d-%H:%M:%S\")\n",
    "print('[LOG {}] transactional dataset of {} rows and {} columns retreived.'.format(now, ori_dataset.shape[0], ori_dataset.shape[1]))"
   ]
  },
  {
   "cell_type": "markdown",
   "metadata": {},
   "source": [
    "Darüber hinaus speichern wir eine Sicherheitskopie des geladenen Datensatzes mit aktuellem Zeitstempel:"
   ]
  },
  {
   "cell_type": "code",
   "execution_count": 14,
   "metadata": {},
   "outputs": [],
   "source": [
    "# determine current timestamp \n",
    "timestamp = dt.datetime.utcnow().strftime(\"%Y-%m-%d_%H-%M-%S\")\n",
    "\n",
    "# define dataset filename \n",
    "filename = timestamp + \" - original_fraud_dataset.xlsx\"\n",
    "\n",
    "# save dataset extract to the data directory\n",
    "ori_dataset.head(1000).to_excel(os.path.join(data_directory, filename))"
   ]
  },
  {
   "cell_type": "markdown",
   "metadata": {},
   "source": [
    "### 2.1 Initiales Daten Assessment"
   ]
  },
  {
   "cell_type": "markdown",
   "metadata": {},
   "source": [
    "Der Datensatz enthält insgesamt **sieben kategorische** und **zwei numerische Attribute**, welche den innerhalb eines SAP FICO Moduls enthaltenen Tabellen BKPF (Buchungsbelegköpfe) und BSEG (Buchungsbelegsegmente) entsprechen. Die nachstehende Liste enthält einen Überblick über die einzelnen Attribute sowie eine kurze Beschreibung ihrer jeweiligen Semantik:\n",
    "\n",
    ">- `BELNR`: die Nummer des Buchhaltungsbelegs,\n",
    ">- `BUKRS`: der Buchungskreis\n",
    ">- `BSCHL`: der Buchungsschlüssel,\n",
    ">- `HKONT`: das gebuchte Hauptbuchkonto,\n",
    ">- `PRCTR`: das gebuchte Profit Center,\n",
    ">- `WAERS`: der Währungsschlüssel,\n",
    ">- `KTOSL`: der Schlüssel des Hauptbuchkontos,\n",
    ">- `DMBTR`: der Betrag in der Hauswährung,\n",
    ">- `WRBTR`: der Betrag in der Belegwährung.\n",
    "\n",
    "Sehen wir uns auch einmal die ersten 10 Zeilen des Datensatzes im Detail an:"
   ]
  },
  {
   "cell_type": "code",
   "execution_count": 15,
   "metadata": {},
   "outputs": [
    {
     "data": {
      "text/html": [
       "<div>\n",
       "<style scoped>\n",
       "    .dataframe tbody tr th:only-of-type {\n",
       "        vertical-align: middle;\n",
       "    }\n",
       "\n",
       "    .dataframe tbody tr th {\n",
       "        vertical-align: top;\n",
       "    }\n",
       "\n",
       "    .dataframe thead th {\n",
       "        text-align: right;\n",
       "    }\n",
       "</style>\n",
       "<table border=\"1\" class=\"dataframe\">\n",
       "  <thead>\n",
       "    <tr style=\"text-align: right;\">\n",
       "      <th></th>\n",
       "      <th>BELNR</th>\n",
       "      <th>WAERS</th>\n",
       "      <th>BUKRS</th>\n",
       "      <th>KTOSL</th>\n",
       "      <th>PRCTR</th>\n",
       "      <th>BSCHL</th>\n",
       "      <th>HKONT</th>\n",
       "      <th>DMBTR</th>\n",
       "      <th>WRBTR</th>\n",
       "      <th>label</th>\n",
       "    </tr>\n",
       "  </thead>\n",
       "  <tbody>\n",
       "    <tr>\n",
       "      <th>0</th>\n",
       "      <td>288203</td>\n",
       "      <td>C3</td>\n",
       "      <td>C31</td>\n",
       "      <td>C9</td>\n",
       "      <td>C92</td>\n",
       "      <td>A3</td>\n",
       "      <td>B1</td>\n",
       "      <td>280979.60</td>\n",
       "      <td>0.00</td>\n",
       "      <td>regular</td>\n",
       "    </tr>\n",
       "    <tr>\n",
       "      <th>1</th>\n",
       "      <td>324441</td>\n",
       "      <td>C1</td>\n",
       "      <td>C18</td>\n",
       "      <td>C7</td>\n",
       "      <td>C76</td>\n",
       "      <td>A1</td>\n",
       "      <td>B2</td>\n",
       "      <td>129856.53</td>\n",
       "      <td>243343.00</td>\n",
       "      <td>regular</td>\n",
       "    </tr>\n",
       "    <tr>\n",
       "      <th>2</th>\n",
       "      <td>133537</td>\n",
       "      <td>C1</td>\n",
       "      <td>C19</td>\n",
       "      <td>C2</td>\n",
       "      <td>C20</td>\n",
       "      <td>A1</td>\n",
       "      <td>B3</td>\n",
       "      <td>957463.97</td>\n",
       "      <td>3183838.41</td>\n",
       "      <td>regular</td>\n",
       "    </tr>\n",
       "    <tr>\n",
       "      <th>3</th>\n",
       "      <td>331521</td>\n",
       "      <td>C4</td>\n",
       "      <td>C48</td>\n",
       "      <td>C9</td>\n",
       "      <td>C95</td>\n",
       "      <td>A2</td>\n",
       "      <td>B1</td>\n",
       "      <td>2681709.51</td>\n",
       "      <td>28778.00</td>\n",
       "      <td>regular</td>\n",
       "    </tr>\n",
       "    <tr>\n",
       "      <th>4</th>\n",
       "      <td>375333</td>\n",
       "      <td>C5</td>\n",
       "      <td>C58</td>\n",
       "      <td>C1</td>\n",
       "      <td>C19</td>\n",
       "      <td>A3</td>\n",
       "      <td>B1</td>\n",
       "      <td>910514.49</td>\n",
       "      <td>346.00</td>\n",
       "      <td>regular</td>\n",
       "    </tr>\n",
       "    <tr>\n",
       "      <th>5</th>\n",
       "      <td>327203</td>\n",
       "      <td>C1</td>\n",
       "      <td>C15</td>\n",
       "      <td>C6</td>\n",
       "      <td>C68</td>\n",
       "      <td>A1</td>\n",
       "      <td>B2</td>\n",
       "      <td>357627.56</td>\n",
       "      <td>704520.00</td>\n",
       "      <td>regular</td>\n",
       "    </tr>\n",
       "    <tr>\n",
       "      <th>6</th>\n",
       "      <td>292545</td>\n",
       "      <td>C4</td>\n",
       "      <td>C47</td>\n",
       "      <td>C2</td>\n",
       "      <td>C28</td>\n",
       "      <td>A2</td>\n",
       "      <td>B3</td>\n",
       "      <td>955576.84</td>\n",
       "      <td>128328.00</td>\n",
       "      <td>regular</td>\n",
       "    </tr>\n",
       "    <tr>\n",
       "      <th>7</th>\n",
       "      <td>335839</td>\n",
       "      <td>C1</td>\n",
       "      <td>C19</td>\n",
       "      <td>C1</td>\n",
       "      <td>C17</td>\n",
       "      <td>A1</td>\n",
       "      <td>B1</td>\n",
       "      <td>41769.26</td>\n",
       "      <td>0.00</td>\n",
       "      <td>regular</td>\n",
       "    </tr>\n",
       "    <tr>\n",
       "      <th>8</th>\n",
       "      <td>369064</td>\n",
       "      <td>C4</td>\n",
       "      <td>C40</td>\n",
       "      <td>C9</td>\n",
       "      <td>C97</td>\n",
       "      <td>A2</td>\n",
       "      <td>B1</td>\n",
       "      <td>44309.79</td>\n",
       "      <td>0.00</td>\n",
       "      <td>regular</td>\n",
       "    </tr>\n",
       "    <tr>\n",
       "      <th>9</th>\n",
       "      <td>138724</td>\n",
       "      <td>C6</td>\n",
       "      <td>C69</td>\n",
       "      <td>C1</td>\n",
       "      <td>C12</td>\n",
       "      <td>A2</td>\n",
       "      <td>B1</td>\n",
       "      <td>466720.45</td>\n",
       "      <td>43843.00</td>\n",
       "      <td>regular</td>\n",
       "    </tr>\n",
       "  </tbody>\n",
       "</table>\n",
       "</div>"
      ],
      "text/plain": [
       "    BELNR WAERS BUKRS KTOSL PRCTR BSCHL HKONT       DMBTR       WRBTR    label\n",
       "0  288203    C3   C31    C9   C92    A3    B1   280979.60        0.00  regular\n",
       "1  324441    C1   C18    C7   C76    A1    B2   129856.53   243343.00  regular\n",
       "2  133537    C1   C19    C2   C20    A1    B3   957463.97  3183838.41  regular\n",
       "3  331521    C4   C48    C9   C95    A2    B1  2681709.51    28778.00  regular\n",
       "4  375333    C5   C58    C1   C19    A3    B1   910514.49      346.00  regular\n",
       "5  327203    C1   C15    C6   C68    A1    B2   357627.56   704520.00  regular\n",
       "6  292545    C4   C47    C2   C28    A2    B3   955576.84   128328.00  regular\n",
       "7  335839    C1   C19    C1   C17    A1    B1    41769.26        0.00  regular\n",
       "8  369064    C4   C40    C9   C97    A2    B1    44309.79        0.00  regular\n",
       "9  138724    C6   C69    C1   C12    A2    B1   466720.45    43843.00  regular"
      ]
     },
     "execution_count": 15,
     "metadata": {},
     "output_type": "execute_result"
    }
   ],
   "source": [
    "# inspect top rows of dataset\n",
    "ori_dataset.head(10) "
   ]
  },
  {
   "cell_type": "markdown",
   "metadata": {},
   "source": [
    "Vielleicht ist Ihnen bei der Durchsicht der Attribute auch das Attribut mit der Bezeichung `Label` in den Daten aufgefallen. Dieses Attribut enthält die **Ground-Truth Informationen** zu den jeweils einzelnen Buchungen. Das Attribut beschreibt die 'wahre Natur' jeder Transaktion, d.h. ob es sich um eine **reguläre** Transaktion (gekennzeichnet durch `regulär`) oder eine **Anomalie** (gekennzeichnet durch `global` und `lokal`) handelt.  \n",
    "\n",
    "Innerhalb unseres Vorgehens werden wir die Label Information nur dazu verwenden, um die Ergebnisse unserer trainierten Modelle zu validieren. Bitte beachten Sie jedoch, dass uns eine solches Feld in der Realität oftmals nicht zur Verfügung steht. Schauen wir uns nun einmal die Verteilung der regulären gegenüber den anomalen Buchungen im Datensatz an:"
   ]
  },
  {
   "cell_type": "code",
   "execution_count": 16,
   "metadata": {},
   "outputs": [
    {
     "data": {
      "text/plain": [
       "regular    532909\n",
       "global         70\n",
       "local          30\n",
       "Name: label, dtype: int64"
      ]
     },
     "execution_count": 16,
     "metadata": {},
     "output_type": "execute_result"
    }
   ],
   "source": [
    "# number of anomalies vs. regular transactions\n",
    "ori_dataset.label.value_counts()"
   ]
  },
  {
   "cell_type": "markdown",
   "metadata": {},
   "source": [
    "Die Analyse zeigt, dass wir es, ähnlich wie in der realen Welt, mit einem **unbalanzierten Datensatz** konfrontiert sind. D.h. insgesamg enthält der Datensatz nur einen sehr kleinen Anteil von **100 (0,109 %)** anomalen Transaktionen. Unter den 100 Anomalien befinden sich **70 (0,076 %)** *globale* Anomalien und **30 (0,003 %)** *lokale* Anomalien. \n",
    "\n",
    "In einem nächsten Schritt entfernen wir das `label` Attribut aus dem Trainingsdatensatz und speichern es in einer gesonderten Variable:"
   ]
  },
  {
   "cell_type": "code",
   "execution_count": 17,
   "metadata": {},
   "outputs": [],
   "source": [
    "# remove the \"ground-truth\" label information for the following steps of the class\n",
    "label = ori_dataset.pop('label')"
   ]
  },
  {
   "cell_type": "markdown",
   "metadata": {},
   "source": [
    "### 2.2 Vorverarbeitung der Kategorischen Attribute"
   ]
  },
  {
   "cell_type": "markdown",
   "metadata": {},
   "source": [
    "Aus der Sichtung der Daten geht hervor, dass die Mehrzahl der Attribute kategorische (diskrete) Attributwerte aufweisen, z.B. das Buchungsdatum, das Hauptbuchkonto, die Buchungsart und die Währung. Schauen wir uns nun die Verteilung der kategorischen Attribute *Buchungsschlüssel* `BSCHL` sowie *Hauptbuchkonto* `HKONT` einmal im Detail an:"
   ]
  },
  {
   "cell_type": "code",
   "execution_count": 18,
   "metadata": {},
   "outputs": [
    {
     "data": {
      "image/png": "[encoded data removed]",
      "text/plain": [
       "<Figure size 2700x750 with 2 Axes>"
      ]
     },
     "metadata": {},
     "output_type": "display_data"
    }
   ],
   "source": [
    "# prepare to plot posting key and general ledger account side by side\n",
    "fig, ax = plt.subplots(1, 2)\n",
    "fig.set_figwidth(18)\n",
    "\n",
    "# plot the distribution of the posting key attribute\n",
    "plot = sns.countplot(x=ori_dataset['BSCHL'], ax=ax[0])\n",
    "\n",
    "# set axis labels\n",
    "plot.set_xticklabels(plot.get_xticklabels(), rotation=90)\n",
    "plot.set_xlabel('Attribute Value', fontsize=16)\n",
    "plot.set_ylabel('Attribute Value Count', fontsize=16)\n",
    "\n",
    "# set plot title\n",
    "plot.set_title('Buchungsschlüssel Attribute Value Distribution', fontsize=16)\n",
    "\n",
    "# plot the distribution of the general ledger attribute\n",
    "plot = sns.countplot(x=ori_dataset['HKONT'], ax=ax[1])\n",
    "\n",
    "# set axis labels\n",
    "plot.set_xticklabels(plot.get_xticklabels(), rotation=90)\n",
    "plot.set_xlabel('Attribute Value', fontsize=16)\n",
    "plot.set_ylabel('Attribute Value Count', fontsize=16)\n",
    "\n",
    "# set plot title\n",
    "plot.set_title('Hauptbuchkonto Attribute Value Distribution', fontsize=16);"
   ]
  },
  {
   "cell_type": "markdown",
   "metadata": {},
   "source": [
    "Im Allgemeinen sind Neuronale Netze dafür konzipiert numerische Daten zu verarbeiten. Eine Möglichkeit, diese Anforderung zu erfüllen, ist die Anwendung eines Verfahrens, das als sog. **One-Hot Kodierung** bezeichnet wird. Hierdurch kann eine numerische Darstellung kategorischer Attributwerte abgeleitet werden. Bei der **One-Hot Kodierung** wird für jeden kategorischen Attributwert eine zusätzliche binäre Spalte in den Daten erstellt. \n",
    "\n",
    "Schauen wir uns hierzu das Beispiel in **Abbildung 2** unten an. Das kategorische Attribut **Receiver** in den Orginaldaten enthält die Namen 'Sally', 'John' und 'Emma'. Wir kodieren das Attribut als 'one-hot' Attribut, indem wir eine zusätzliche binäre Spalte für jeden kategorischen Wert in der Spalte 'Receiver' erstellen. Anschliessend kodieren wir z.B. jede Transaktion, die den Wert 'Sally' in der Spalte 'Receiver' aufweist mit dem Wert 1.0 innerhalb der 'Sally' Spalte der Transaktion. Sollte eine Transaktion einen anderen Wert in der Spalte 'Receiver' aufweisen, kodieren wir die 'Sally' Spalte mit dem Wert 0.0. "
   ]
  },
  {
   "cell_type": "markdown",
   "metadata": {},
   "source": [
    "<img align=\"middle\" style=\"max-width: 500px; height: auto\" src=\"./encoding.png\">\n",
    "\n",
    "**Abbildung 2:** Beispielhafte 'One-Hot' Kodierung der verschiedenen Receiver Attributwerte in spezifische binäre 'One-Hot' Spalten. Dabei resultiert jeder im Datensatz beobachtbare Attributwert in einer eigene Spalte. Der Spaltenwert **1.0** kodiert das Vorkommen des Attributwertes in der entsprechenden Buchung. Der Spaltenwert **0.0** hingegen zeigt, dass der Attributwert nicht innerhalb der entsprechenden Buchung vorkommt."
   ]
  },
  {
   "cell_type": "markdown",
   "metadata": {},
   "source": [
    "Anhand dieses Verfahrens können die insgesamt sechs kategorischen Attribute des Datensatzes in numerische Attribute überführt werden. Die `Pandas` Bibliothek stellt hierzu die entsprechende Funktionalität zur Verfügung, welche wir im Nachfolgenden anwenden:"
   ]
  },
  {
   "cell_type": "code",
   "execution_count": 19,
   "metadata": {},
   "outputs": [],
   "source": [
    "# select categorical attributes to be \"one-hot\" encoded\n",
    "categorical_attr_names = ['BUKRS', 'KTOSL', 'PRCTR', 'BSCHL', 'HKONT', 'WAERS']\n",
    "\n",
    "# encode categorical attributes into a binary one-hot encoded representation \n",
    "ori_dataset_cat_processed = pd.get_dummies(ori_dataset[categorical_attr_names])"
   ]
  },
  {
   "cell_type": "markdown",
   "metadata": {},
   "source": [
    "Nachfolgend überprüfen wie die vorgenommene **One-Hot Kodierung** anhand der 10 ersten Buchungen des Datensatzes:"
   ]
  },
  {
   "cell_type": "code",
   "execution_count": 20,
   "metadata": {},
   "outputs": [
    {
     "data": {
      "text/html": [
       "<div>\n",
       "<style scoped>\n",
       "    .dataframe tbody tr th:only-of-type {\n",
       "        vertical-align: middle;\n",
       "    }\n",
       "\n",
       "    .dataframe tbody tr th {\n",
       "        vertical-align: top;\n",
       "    }\n",
       "\n",
       "    .dataframe thead th {\n",
       "        text-align: right;\n",
       "    }\n",
       "</style>\n",
       "<table border=\"1\" class=\"dataframe\">\n",
       "  <thead>\n",
       "    <tr style=\"text-align: right;\">\n",
       "      <th></th>\n",
       "      <th>BUKRS_A43</th>\n",
       "      <th>BUKRS_A89</th>\n",
       "      <th>BUKRS_B37</th>\n",
       "      <th>BUKRS_B76</th>\n",
       "      <th>BUKRS_C10</th>\n",
       "      <th>BUKRS_C11</th>\n",
       "      <th>BUKRS_C12</th>\n",
       "      <th>BUKRS_C13</th>\n",
       "      <th>BUKRS_C14</th>\n",
       "      <th>BUKRS_C15</th>\n",
       "      <th>...</th>\n",
       "      <th>WAERS_U72</th>\n",
       "      <th>WAERS_U94</th>\n",
       "      <th>WAERS_V89</th>\n",
       "      <th>WAERS_W25</th>\n",
       "      <th>WAERS_W59</th>\n",
       "      <th>WAERS_X26</th>\n",
       "      <th>WAERS_Y59</th>\n",
       "      <th>WAERS_Z06</th>\n",
       "      <th>WAERS_Z37</th>\n",
       "      <th>WAERS_Z54</th>\n",
       "    </tr>\n",
       "  </thead>\n",
       "  <tbody>\n",
       "    <tr>\n",
       "      <th>0</th>\n",
       "      <td>0</td>\n",
       "      <td>0</td>\n",
       "      <td>0</td>\n",
       "      <td>0</td>\n",
       "      <td>0</td>\n",
       "      <td>0</td>\n",
       "      <td>0</td>\n",
       "      <td>0</td>\n",
       "      <td>0</td>\n",
       "      <td>0</td>\n",
       "      <td>...</td>\n",
       "      <td>0</td>\n",
       "      <td>0</td>\n",
       "      <td>0</td>\n",
       "      <td>0</td>\n",
       "      <td>0</td>\n",
       "      <td>0</td>\n",
       "      <td>0</td>\n",
       "      <td>0</td>\n",
       "      <td>0</td>\n",
       "      <td>0</td>\n",
       "    </tr>\n",
       "    <tr>\n",
       "      <th>1</th>\n",
       "      <td>0</td>\n",
       "      <td>0</td>\n",
       "      <td>0</td>\n",
       "      <td>0</td>\n",
       "      <td>0</td>\n",
       "      <td>0</td>\n",
       "      <td>0</td>\n",
       "      <td>0</td>\n",
       "      <td>0</td>\n",
       "      <td>0</td>\n",
       "      <td>...</td>\n",
       "      <td>0</td>\n",
       "      <td>0</td>\n",
       "      <td>0</td>\n",
       "      <td>0</td>\n",
       "      <td>0</td>\n",
       "      <td>0</td>\n",
       "      <td>0</td>\n",
       "      <td>0</td>\n",
       "      <td>0</td>\n",
       "      <td>0</td>\n",
       "    </tr>\n",
       "    <tr>\n",
       "      <th>2</th>\n",
       "      <td>0</td>\n",
       "      <td>0</td>\n",
       "      <td>0</td>\n",
       "      <td>0</td>\n",
       "      <td>0</td>\n",
       "      <td>0</td>\n",
       "      <td>0</td>\n",
       "      <td>0</td>\n",
       "      <td>0</td>\n",
       "      <td>0</td>\n",
       "      <td>...</td>\n",
       "      <td>0</td>\n",
       "      <td>0</td>\n",
       "      <td>0</td>\n",
       "      <td>0</td>\n",
       "      <td>0</td>\n",
       "      <td>0</td>\n",
       "      <td>0</td>\n",
       "      <td>0</td>\n",
       "      <td>0</td>\n",
       "      <td>0</td>\n",
       "    </tr>\n",
       "    <tr>\n",
       "      <th>3</th>\n",
       "      <td>0</td>\n",
       "      <td>0</td>\n",
       "      <td>0</td>\n",
       "      <td>0</td>\n",
       "      <td>0</td>\n",
       "      <td>0</td>\n",
       "      <td>0</td>\n",
       "      <td>0</td>\n",
       "      <td>0</td>\n",
       "      <td>0</td>\n",
       "      <td>...</td>\n",
       "      <td>0</td>\n",
       "      <td>0</td>\n",
       "      <td>0</td>\n",
       "      <td>0</td>\n",
       "      <td>0</td>\n",
       "      <td>0</td>\n",
       "      <td>0</td>\n",
       "      <td>0</td>\n",
       "      <td>0</td>\n",
       "      <td>0</td>\n",
       "    </tr>\n",
       "    <tr>\n",
       "      <th>4</th>\n",
       "      <td>0</td>\n",
       "      <td>0</td>\n",
       "      <td>0</td>\n",
       "      <td>0</td>\n",
       "      <td>0</td>\n",
       "      <td>0</td>\n",
       "      <td>0</td>\n",
       "      <td>0</td>\n",
       "      <td>0</td>\n",
       "      <td>0</td>\n",
       "      <td>...</td>\n",
       "      <td>0</td>\n",
       "      <td>0</td>\n",
       "      <td>0</td>\n",
       "      <td>0</td>\n",
       "      <td>0</td>\n",
       "      <td>0</td>\n",
       "      <td>0</td>\n",
       "      <td>0</td>\n",
       "      <td>0</td>\n",
       "      <td>0</td>\n",
       "    </tr>\n",
       "    <tr>\n",
       "      <th>5</th>\n",
       "      <td>0</td>\n",
       "      <td>0</td>\n",
       "      <td>0</td>\n",
       "      <td>0</td>\n",
       "      <td>0</td>\n",
       "      <td>0</td>\n",
       "      <td>0</td>\n",
       "      <td>0</td>\n",
       "      <td>0</td>\n",
       "      <td>1</td>\n",
       "      <td>...</td>\n",
       "      <td>0</td>\n",
       "      <td>0</td>\n",
       "      <td>0</td>\n",
       "      <td>0</td>\n",
       "      <td>0</td>\n",
       "      <td>0</td>\n",
       "      <td>0</td>\n",
       "      <td>0</td>\n",
       "      <td>0</td>\n",
       "      <td>0</td>\n",
       "    </tr>\n",
       "    <tr>\n",
       "      <th>6</th>\n",
       "      <td>0</td>\n",
       "      <td>0</td>\n",
       "      <td>0</td>\n",
       "      <td>0</td>\n",
       "      <td>0</td>\n",
       "      <td>0</td>\n",
       "      <td>0</td>\n",
       "      <td>0</td>\n",
       "      <td>0</td>\n",
       "      <td>0</td>\n",
       "      <td>...</td>\n",
       "      <td>0</td>\n",
       "      <td>0</td>\n",
       "      <td>0</td>\n",
       "      <td>0</td>\n",
       "      <td>0</td>\n",
       "      <td>0</td>\n",
       "      <td>0</td>\n",
       "      <td>0</td>\n",
       "      <td>0</td>\n",
       "      <td>0</td>\n",
       "    </tr>\n",
       "    <tr>\n",
       "      <th>7</th>\n",
       "      <td>0</td>\n",
       "      <td>0</td>\n",
       "      <td>0</td>\n",
       "      <td>0</td>\n",
       "      <td>0</td>\n",
       "      <td>0</td>\n",
       "      <td>0</td>\n",
       "      <td>0</td>\n",
       "      <td>0</td>\n",
       "      <td>0</td>\n",
       "      <td>...</td>\n",
       "      <td>0</td>\n",
       "      <td>0</td>\n",
       "      <td>0</td>\n",
       "      <td>0</td>\n",
       "      <td>0</td>\n",
       "      <td>0</td>\n",
       "      <td>0</td>\n",
       "      <td>0</td>\n",
       "      <td>0</td>\n",
       "      <td>0</td>\n",
       "    </tr>\n",
       "    <tr>\n",
       "      <th>8</th>\n",
       "      <td>0</td>\n",
       "      <td>0</td>\n",
       "      <td>0</td>\n",
       "      <td>0</td>\n",
       "      <td>0</td>\n",
       "      <td>0</td>\n",
       "      <td>0</td>\n",
       "      <td>0</td>\n",
       "      <td>0</td>\n",
       "      <td>0</td>\n",
       "      <td>...</td>\n",
       "      <td>0</td>\n",
       "      <td>0</td>\n",
       "      <td>0</td>\n",
       "      <td>0</td>\n",
       "      <td>0</td>\n",
       "      <td>0</td>\n",
       "      <td>0</td>\n",
       "      <td>0</td>\n",
       "      <td>0</td>\n",
       "      <td>0</td>\n",
       "    </tr>\n",
       "    <tr>\n",
       "      <th>9</th>\n",
       "      <td>0</td>\n",
       "      <td>0</td>\n",
       "      <td>0</td>\n",
       "      <td>0</td>\n",
       "      <td>0</td>\n",
       "      <td>0</td>\n",
       "      <td>0</td>\n",
       "      <td>0</td>\n",
       "      <td>0</td>\n",
       "      <td>0</td>\n",
       "      <td>...</td>\n",
       "      <td>0</td>\n",
       "      <td>0</td>\n",
       "      <td>0</td>\n",
       "      <td>0</td>\n",
       "      <td>0</td>\n",
       "      <td>0</td>\n",
       "      <td>0</td>\n",
       "      <td>0</td>\n",
       "      <td>0</td>\n",
       "      <td>0</td>\n",
       "    </tr>\n",
       "  </tbody>\n",
       "</table>\n",
       "<p>10 rows × 616 columns</p>\n",
       "</div>"
      ],
      "text/plain": [
       "   BUKRS_A43  BUKRS_A89  BUKRS_B37  BUKRS_B76  BUKRS_C10  BUKRS_C11  \\\n",
       "0          0          0          0          0          0          0   \n",
       "1          0          0          0          0          0          0   \n",
       "2          0          0          0          0          0          0   \n",
       "3          0          0          0          0          0          0   \n",
       "4          0          0          0          0          0          0   \n",
       "5          0          0          0          0          0          0   \n",
       "6          0          0          0          0          0          0   \n",
       "7          0          0          0          0          0          0   \n",
       "8          0          0          0          0          0          0   \n",
       "9          0          0          0          0          0          0   \n",
       "\n",
       "   BUKRS_C12  BUKRS_C13  BUKRS_C14  BUKRS_C15  ...  WAERS_U72  WAERS_U94  \\\n",
       "0          0          0          0          0  ...          0          0   \n",
       "1          0          0          0          0  ...          0          0   \n",
       "2          0          0          0          0  ...          0          0   \n",
       "3          0          0          0          0  ...          0          0   \n",
       "4          0          0          0          0  ...          0          0   \n",
       "5          0          0          0          1  ...          0          0   \n",
       "6          0          0          0          0  ...          0          0   \n",
       "7          0          0          0          0  ...          0          0   \n",
       "8          0          0          0          0  ...          0          0   \n",
       "9          0          0          0          0  ...          0          0   \n",
       "\n",
       "   WAERS_V89  WAERS_W25  WAERS_W59  WAERS_X26  WAERS_Y59  WAERS_Z06  \\\n",
       "0          0          0          0          0          0          0   \n",
       "1          0          0          0          0          0          0   \n",
       "2          0          0          0          0          0          0   \n",
       "3          0          0          0          0          0          0   \n",
       "4          0          0          0          0          0          0   \n",
       "5          0          0          0          0          0          0   \n",
       "6          0          0          0          0          0          0   \n",
       "7          0          0          0          0          0          0   \n",
       "8          0          0          0          0          0          0   \n",
       "9          0          0          0          0          0          0   \n",
       "\n",
       "   WAERS_Z37  WAERS_Z54  \n",
       "0          0          0  \n",
       "1          0          0  \n",
       "2          0          0  \n",
       "3          0          0  \n",
       "4          0          0  \n",
       "5          0          0  \n",
       "6          0          0  \n",
       "7          0          0  \n",
       "8          0          0  \n",
       "9          0          0  \n",
       "\n",
       "[10 rows x 616 columns]"
      ]
     },
     "execution_count": 20,
     "metadata": {},
     "output_type": "execute_result"
    }
   ],
   "source": [
    "# inspect encoded sample transactions\n",
    "ori_dataset_cat_processed.head(10)"
   ]
  },
  {
   "cell_type": "markdown",
   "metadata": {},
   "source": [
    "### 2.3 Vorverarbeitung der numerischen Attribute"
   ]
  },
  {
   "cell_type": "markdown",
   "metadata": {},
   "source": [
    "Anschliessend Analysieren wir nun die Verteilungen der **beiden numerischen Attribute** des Datensatzes. Hierbei handelt es sich um die Attribute (1) *Betrag in Hauswährung* `DMBTR` und (2) *Betrag in Dokumentwährung* `WRBTR` deren jeweilge Verteilungen wir nachfolgend visualisieren: "
   ]
  },
  {
   "cell_type": "code",
   "execution_count": 21,
   "metadata": {},
   "outputs": [
    {
     "data": {
      "image/png": "[encoded data removed]",
      "text/plain": [
       "<Figure size 2700x750 with 2 Axes>"
      ]
     },
     "metadata": {},
     "output_type": "display_data"
    }
   ],
   "source": [
    "# plot the log-scaled 'DMBTR' as well as the 'WRBTR' attribute value distribution\n",
    "fig, ax = plt.subplots(1,2)\n",
    "fig.set_figwidth(18)\n",
    "\n",
    "# plot distribution of the local amount attribute\n",
    "plot = sns.distplot(ori_dataset['DMBTR'].tolist(), ax=ax[0])\n",
    "\n",
    "# set axis labels\n",
    "plot.set_xlabel('Attribute Value', fontsize=16)\n",
    "plot.set_ylabel('Attribute Value Count', fontsize=16)\n",
    "\n",
    "# set plot title\n",
    "plot.set_title('Betrag in Hauswährung - Attribute Value Distribution', fontsize=16)\n",
    "\n",
    "# plot distribution of the document amount attribute\n",
    "plot = sns.distplot(ori_dataset['WRBTR'].tolist(), ax=ax[1])\n",
    "\n",
    "# set axis labels\n",
    "plot.set_xlabel('Attribute Value', fontsize=16)\n",
    "plot.set_ylabel('Attribute Value Count', fontsize=16)\n",
    "\n",
    "# set plot title\n",
    "plot.set_title('Betrag in Dokumentwährung - Attribute Value Distribution', fontsize=16);"
   ]
  },
  {
   "cell_type": "markdown",
   "metadata": {},
   "source": [
    "Die Werte beider Betragsattribute weisen eine jeweils **schiefe** und **steile** Verteilung auf. Wir skalieren deshalb die Werte zunächst logarithmisch. Anschliessend min-max normalisieren wir die Skalierten Werte:"
   ]
  },
  {
   "cell_type": "code",
   "execution_count": 22,
   "metadata": {},
   "outputs": [],
   "source": [
    "# select the 'DMBTR' and 'WRBTR' attribute\n",
    "numeric_attr_names = ['DMBTR', 'WRBTR']\n",
    "\n",
    "# add a small epsilon to eliminate zero values from data for log scaling\n",
    "numeric_attr = ori_dataset[numeric_attr_names] + 1e-7\n",
    "\n",
    "# log scale the 'DMBTR' and 'WRBTR' attribute values\n",
    "numeric_attr = numeric_attr.apply(np.log)\n",
    "\n",
    "# normalize all numeric attributes to the range [0,1]\n",
    "ori_dataset_num_processed = (numeric_attr - numeric_attr.min()) / (numeric_attr.max() - numeric_attr.min())"
   ]
  },
  {
   "cell_type": "markdown",
   "metadata": {},
   "source": [
    "In einem nächsten Schritt visualisieren wir die Verteilungen der skalierten bzw. normierten Werte beider Betragsattribute:"
   ]
  },
  {
   "cell_type": "code",
   "execution_count": 23,
   "metadata": {},
   "outputs": [
    {
     "data": {
      "image/png": "[encoded data removed]",
      "text/plain": [
       "<Figure size 2700x750 with 2 Axes>"
      ]
     },
     "metadata": {},
     "output_type": "display_data"
    }
   ],
   "source": [
    "# plot the log-scaled 'DMBTR' as well as the 'WRBTR' attribute value distribution\n",
    "fig, ax = plt.subplots(1,2)\n",
    "fig.set_figwidth(18)\n",
    "\n",
    "# plot distribution of the local amount attribute\n",
    "plot = sns.distplot(ori_dataset_num_processed['DMBTR'].tolist(), ax=ax[0])\n",
    "\n",
    "# set axis labels\n",
    "plot.set_xlabel('Attribute Value', fontsize=16)\n",
    "plot.set_ylabel('Attribute Value Count', fontsize=16)\n",
    "\n",
    "# set plot title\n",
    "plot.set_title('Betrag in Hauswährung - Attribute Value Distribution', fontsize=16)\n",
    "\n",
    "# plot distribution of the document amount attribute\n",
    "plot = sns.distplot(ori_dataset_num_processed['WRBTR'].tolist(), ax=ax[1])\n",
    "\n",
    "# set axis labels\n",
    "plot.set_xlabel('Attribute Value', fontsize=16)\n",
    "plot.set_ylabel('Attribute Value Count', fontsize=16)\n",
    "\n",
    "# set plot title\n",
    "plot.set_title('Betrag in Dokumentwährung - Attribute Value Distribution', fontsize=16);"
   ]
  },
  {
   "cell_type": "markdown",
   "metadata": {},
   "source": [
    "### 2.4 Merge Categorical and Numerical Transaction Attributes"
   ]
  },
  {
   "cell_type": "markdown",
   "metadata": {},
   "source": [
    "Abschliessend fügen wir die beiden vorverarbeiteten numerischen und kategorischen Attribute zu einem **einzigen Datensatz** zusammen. Der zusammengeführte Datensatz bildet die Grundlage für das nachfolgende Training des Deep Autoencoder Neural Networks (AENNs):"
   ]
  },
  {
   "cell_type": "code",
   "execution_count": 24,
   "metadata": {},
   "outputs": [],
   "source": [
    "# merge categorical and numeric subsets\n",
    "ori_subset_transformed = pd.concat([ori_dataset_cat_processed, ori_dataset_num_processed], axis = 1)"
   ]
  },
  {
   "cell_type": "markdown",
   "metadata": {},
   "source": [
    "Werfen wir nun abschliessend noch einen finalen einen Blick auf die Dimensionalität des zusammengefügten Datensatzes:"
   ]
  },
  {
   "cell_type": "code",
   "execution_count": 25,
   "metadata": {},
   "outputs": [
    {
     "data": {
      "text/plain": [
       "(533009, 618)"
      ]
     },
     "execution_count": 25,
     "metadata": {},
     "output_type": "execute_result"
    }
   ],
   "source": [
    "# inspect final dimensions of pre-processed transactional data\n",
    "ori_subset_transformed.shape"
   ]
  },
  {
   "cell_type": "markdown",
   "metadata": {},
   "source": [
    "Nach Abschluss der Vorverarbeitungsschritte verfügen wir über einen Datensatz, der aus einer Gesamtzahl von **533,009 Datensätzen** (Zeilen) und **618 Attributen** (Spalten) besteht. Wir behalten die Anzahl der Spalten im Hinterkopf, da sie die Dimensionalität der Eingabe- und Ausgabeschicht unseres AENNs bestimmen wird."
   ]
  },
  {
   "cell_type": "markdown",
   "metadata": {
    "colab_type": "text",
    "id": "UQD5144JBqjs"
   },
   "source": [
    "## 3. Adversarial Autoencoder Neural Network Implementierung"
   ]
  },
  {
   "cell_type": "markdown",
   "metadata": {},
   "source": [
    "In diesem Abschnitt möchten wir uns mit der zugrundeliegenden Idee und dem Aufbau eines **Adversarial Autoencoder Neural Networks (AAENNs)** vertraut zu machen. Hierzu werden wir die einzelne Bausteine und die spezifische Netzwerkstruktur von AAENNs anhand der `PyTorch` Open-Source-Bibliothek implementieren."
   ]
  },
  {
   "cell_type": "markdown",
   "metadata": {},
   "source": [
    "### 3.1 Adversarial Autoencoder Neural Network Architektur"
   ]
  },
  {
   "cell_type": "markdown",
   "metadata": {
    "colab_type": "text",
    "id": "Vu8jws-WBqjs"
   },
   "source": [
    "Die Architektur des **Adversarial Autoencoder Neural Networks (AAENNs)**, wie in der Abbildung unten dargestellt, erweitert das Konzept klassischer Autoencoder Neural Networks (AENNs), um die Idee sog. **Generative Adversarial Networks (GANs)**. Anhand dieser Erweitung ist es dem AAENN möglich die erlernten Repräsentationen innerhalb des latenten Raum des AAENNs anhand einer beliebigen Prior-Verteilung azuordnen. Das Lernen selbst erfolgt pro Trainingsbatch in zwei Phasen, (1) einer Rekonstruktionsphase und (2) einer Regularisierungsphase."
   ]
  },
  {
   "cell_type": "markdown",
   "metadata": {
    "colab_type": "text",
    "id": "IAMjNjsvBqjt"
   },
   "source": [
    "Innerhalb der **Rekonstruktionsphase** wird der AAENN-Encoder $q_{\\theta}(z|x)$ trainiert, um eine aggregierte Posterior-Verteilung $q(z)$ der Journaleinträge $X$ über den latenten Raum $Z$ zu lernen. Dabei entspricht die gelernte Posterior-Verteilung, in Analogie zu AENNs, komprimierten Repräsentatonen der Journalbuchungen. Das  Decoder-Netzwerk $p_{\\theta}(\\hat{x}|z)$ des AAENNs verwendet die erlernten Repräsentationen $z_i \\in Z$ wiederum, um die Journaleinträge so Originalgetreu wie möglich zu rekonstruieren $\\hat{X}$. **Zielsetzung der Rekonstruktionsphase ist es den Rekonstruktionsfehler der AAENNs zu minimieren**.\n",
    "\n",
    "In der **Regularisierungsphase** wird ein adversarial Trainingsverfahren angewandt bei dem das Encoder-Netzwerk $q_{\\theta}(z|x)$ zugleich als Generator-Netzwerk fungiert. Zusätzlich erfolgt der Aufsatz eines Diskriminator-Netzwerk $d_{\\theta}(z)$ auf den latenten Raum $Z$ des AAENNs. In Analogie zum Training von GANs wird das Diskriminator-Netzwerk des AAENN trainiert, um die Samples einer ausgewählten Prior-Verteilung $p(z) \\in Z$, sog. **Fake Verteilung**, von der gelernten Posterior-Verteilung $q(z)$, sog. **True Verteilung**, zu unterscheiden. **Zielsetzung der Regulierungsphase ist es das Diskriminator-Netzwerk des AAENNs maximal zu täuschen**. \n",
    "\n",
    "Eine solche Täuschung gelingt dem Generator-Netzwerk wenn sich Fake und True Verteilung $p(z) ≈ q(z)$ nicht mehr signifikant von einander unterscheiden. Das heisst, sich das Diskriminator-Netzwerk nicht sicher ist, ob ein vorliegendes Trainingssample aus der **True Verteilung** $q(z)$ oder der **Fake Verteilung** $p(z)$ stammt."
   ]
  },
  {
   "cell_type": "markdown",
   "metadata": {
    "colab_type": "text",
    "id": "4BI7zJu4Bqjt"
   },
   "source": [
    "<img align=\"middle\" style=\"max-width: 830px; height: auto\" src=\"https://github.com/GitiHubi/deepAD/blob/master/images/autoencoder_2.png?raw=1\">"
   ]
  },
  {
   "cell_type": "markdown",
   "metadata": {},
   "source": [
    "**Abbildung 3:** Schematische Darstellung eines **Adversarial Autoencoder Neural Networks (AAENNs)**, das aus drei nicht-linearen Abbildungen bzw. Feed-Forward-Netzen besteht. Die drei miteinander verknüpften Netze werden als Encoder-Netzwerk $q_\\theta: \\mathbb{R}^{dx} \\mapsto \\mathbb{R}^{dz}$, Decoder-Netzwerk $p_\\theta: \\mathbb{R}^{dz} \\mapsto \\mathbb{R}^{dx}$, und Discriminator-Netzwerk $d_\\phi: \\mathbb{R}^{dz} \\mapsto \\mathbb{R}^{d1}$ bezeichnet."
   ]
  },
  {
   "cell_type": "code",
   "execution_count": null,
   "metadata": {},
   "outputs": [],
   "source": [
    "#Todo"
   ]
  },
  {
   "cell_type": "markdown",
   "metadata": {
    "colab_type": "text",
    "id": "pmPCygUqBqjt"
   },
   "source": [
    "### 3.1 Encoder Netzwerk Implementierung"
   ]
  },
  {
   "cell_type": "markdown",
   "metadata": {},
   "source": [
    "In einem nächsten Schritt möchten wir nun das **Encoder Netz $q_{\\theta}(z | x)$** in `PyTorch` implementieren. Der Encoder soll aus insgesamt **fünf Schichten von fully-connected Neuronen** bestehen. Darüber hinaus solle der Encoder die nachfolgende Anzahl von Neuronen pro Schicht enthalten: 618-256-64-16-4-2. Die vorhergehende Notation bedeutet, dass die erste Schicht 618 Neuronen umfasst (bestimmt durch die Dimensionalität der Eingabedaten), die zweite Schicht 256 Neuronen und die weiteren Schichten 64, 16, 4 bzw. 2 Neuronen."
   ]
  },
  {
   "cell_type": "markdown",
   "metadata": {
    "colab_type": "text",
    "id": "hY5356SWBqjt"
   },
   "source": [
    "Den nachfolgenden drei Elementen der Implementierung des Encoder Netzes möchten wir eine besonderes Augenmerk schenken:\n",
    "\n",
    ">- `self.encoder_Lx`: definiert die lineare Transformation der jeweiligen Schicht, welche auf die Eingabe angewandt wird: $Wx + b$.\n",
    ">- `nn.init.xavier_uniform`: initialisiert Gewichtsparameter anhand einer gleichmäßigen Xavier Verteilung.\n",
    ">- `nn.init.constant`: initialisiert den Bias pro Schicht mit einem konstanten Wert 0.0.\n",
    ">- `self.encoder_Rx`: definiert die nicht-lineare Transformation der jeweiligen Schicht, welche auf die Eingabe angewandt wird: $\\sigma(\\cdot)$.\n",
    "\n",
    "Wir verwenden sog. **Leaky ReLUs**, um saturierende bzw. 'sterbende' Neuronen zu vermeiden und die Trainingskonvergenz zu beschleunigen. Die Anwendung von Leaky ReLUs ermöglicht die Berechnung von Gradienten auch innerhalb des negativen Bereichs einer Aktivierungsfunktion (siehe vorhergehendes Lab 05)."
   ]
  },
  {
   "cell_type": "code",
   "execution_count": 33,
   "metadata": {
    "colab": {},
    "colab_type": "code",
    "id": "W_I8259HBqjt"
   },
   "outputs": [],
   "source": [
    "# implementation of the encoder network\n",
    "class encoder(nn.Module):\n",
    "\n",
    "    # define class constructor\n",
    "    def __init__(self):\n",
    "\n",
    "        # call super class constructor\n",
    "        super(encoder, self).__init__()\n",
    "\n",
    "        # specify layer 1 - in 618, out 256\n",
    "        self.encoder_L1 = nn.Linear(in_features=ori_subset_transformed.shape[1], out_features=256, bias=True) # init linearity\n",
    "        nn.init.xavier_uniform_(self.encoder_L1.weight) # init weights according to [9]\n",
    "        nn.init.constant_(self.encoder_L1.bias, 0.0) # constant initialization of the bias\n",
    "        self.encoder_R1 = nn.LeakyReLU(negative_slope=0.4, inplace=True) # add non-linearity according to [10]\n",
    "\n",
    "        # specify layer 2 - in 256, out 64\n",
    "        self.encoder_L2 = nn.Linear(256, 64, bias=True)\n",
    "        nn.init.xavier_uniform_(self.encoder_L2.weight)\n",
    "        nn.init.constant_(self.encoder_L2.bias, 0.0)\n",
    "        self.encoder_R2 = nn.LeakyReLU(negative_slope=0.4, inplace=True)\n",
    "\n",
    "        # specify layer 3 - in 64, out 16\n",
    "        self.encoder_L3 = nn.Linear(64, 16, bias=True)\n",
    "        nn.init.xavier_uniform_(self.encoder_L3.weight)\n",
    "        nn.init.constant_(self.encoder_L3.bias, 0.0)\n",
    "        self.encoder_R3 = nn.LeakyReLU(negative_slope=0.4, inplace=True)\n",
    "\n",
    "        # specify layer 4 - in 16, out 4\n",
    "        self.encoder_L4 = nn.Linear(16, 4, bias=True)\n",
    "        nn.init.xavier_uniform_(self.encoder_L4.weight)\n",
    "        nn.init.constant_(self.encoder_L4.bias, 0.0)\n",
    "        self.encoder_R4 = torch.nn.LeakyReLU(negative_slope=0.4, inplace=True)\n",
    "\n",
    "        # specify layer 5 - in 4, out 2\n",
    "        self.encoder_L5 = nn.Linear(4, 2, bias=True)\n",
    "        nn.init.xavier_uniform_(self.encoder_L5.weight)\n",
    "        nn.init.constant_(self.encoder_L5.bias, 0.0)\n",
    "        self.encoder_R5 = torch.nn.LeakyReLU(negative_slope=0.4, inplace=True)\n",
    "        \n",
    "    # define forward pass\n",
    "    def forward(self, x):\n",
    "\n",
    "        # run forward pass through the network\n",
    "        x = self.encoder_R1(self.encoder_L1(x))\n",
    "        x = self.encoder_R2(self.encoder_L2(x))\n",
    "        x = self.encoder_R3(self.encoder_L3(x))\n",
    "        x = self.encoder_R4(self.encoder_L4(x))\n",
    "        x = self.encoder_R5(self.encoder_L5(x))\n",
    "\n",
    "        # return result\n",
    "        return x"
   ]
  },
  {
   "cell_type": "markdown",
   "metadata": {},
   "source": [
    "In einem nächsten Schritt instanzieren wir ein Modell des Encoder Netzes:"
   ]
  },
  {
   "cell_type": "code",
   "execution_count": 34,
   "metadata": {},
   "outputs": [],
   "source": [
    "# intstantiate the encoder network model\n",
    "encoder_train = encoder()"
   ]
  },
  {
   "cell_type": "markdown",
   "metadata": {},
   "source": [
    "Anschliessend transferieren wir das Encoder Modell auf die `CPU` oder eine ggf. verfügbare `GPU`:"
   ]
  },
  {
   "cell_type": "code",
   "execution_count": 35,
   "metadata": {},
   "outputs": [],
   "source": [
    "# push model to compute device\n",
    "encoder_train = encoder_train.to(device)"
   ]
  },
  {
   "cell_type": "markdown",
   "metadata": {},
   "source": [
    "Sofern verfügbar, prüfen wir ob das Modell erfolgreich auf die `GPU`  übertragen wurde:"
   ]
  },
  {
   "cell_type": "code",
   "execution_count": 36,
   "metadata": {},
   "outputs": [
    {
     "name": "stdout",
     "output_type": "stream",
     "text": [
      "/bin/bash: nvidia-smi: command not found\r\n"
     ]
    }
   ],
   "source": [
    "!nvidia-smi"
   ]
  },
  {
   "cell_type": "markdown",
   "metadata": {},
   "source": [
    "Nun können wir die Modellstruktur visualisieren und die Netzarchitektur nochmals durch das Ausführen der folgenden Zelle überprüfen:"
   ]
  },
  {
   "cell_type": "code",
   "execution_count": 37,
   "metadata": {},
   "outputs": [
    {
     "name": "stdout",
     "output_type": "stream",
     "text": [
      "[LOG 2022.12.08-21:38:03] encoder architecture:\n",
      "\n",
      "encoder(\n",
      "  (encoder_L1): Linear(in_features=618, out_features=256, bias=True)\n",
      "  (encoder_R1): LeakyReLU(negative_slope=0.4, inplace=True)\n",
      "  (encoder_L2): Linear(in_features=256, out_features=64, bias=True)\n",
      "  (encoder_R2): LeakyReLU(negative_slope=0.4, inplace=True)\n",
      "  (encoder_L3): Linear(in_features=64, out_features=16, bias=True)\n",
      "  (encoder_R3): LeakyReLU(negative_slope=0.4, inplace=True)\n",
      "  (encoder_L4): Linear(in_features=16, out_features=4, bias=True)\n",
      "  (encoder_R4): LeakyReLU(negative_slope=0.4, inplace=True)\n",
      "  (encoder_L5): Linear(in_features=4, out_features=2, bias=True)\n",
      "  (encoder_R5): LeakyReLU(negative_slope=0.4, inplace=True)\n",
      ")\n",
      "\n"
     ]
    }
   ],
   "source": [
    "# print the initialized architectures\n",
    "now = dt.datetime.utcnow().strftime(\"%Y.%m.%d-%H:%M:%S\")\n",
    "print('[LOG {}] encoder architecture:\\n\\n{}\\n'.format(now, encoder_train))"
   ]
  },
  {
   "cell_type": "markdown",
   "metadata": {
    "colab_type": "text",
    "id": "hhC0QTXUBqjv"
   },
   "source": [
    "### 3.2 Decoder Netzwerk Implementierung"
   ]
  },
  {
   "cell_type": "markdown",
   "metadata": {
    "colab_type": "text",
    "id": "qxsh9OvXBqjw"
   },
   "source": [
    "In einem nächsten Schritt vervollständigen wir nun die Autoencoder Architektur des AAENNs durch die Implementierung des entsprechenden **Decoder Netzes $p_{\\theta}(\\hat{x}|z)$**. Der Decoder soll ebenfall aus insgesamt **fünf Schichten** von fully-connected Neuronen bestehen. Zudem soll der Decoder die Architektur des Encoders  **symmetrisch spiegeln**. Wir invertieren hierzu die Ausgestaltung der Schichten des Encoders schichtweise, gemäss der folgenden Struktur 2-4-16-64-256, im Rahmen der Implementierung des Decoders:"
   ]
  },
  {
   "cell_type": "code",
   "execution_count": 41,
   "metadata": {
    "colab": {},
    "colab_type": "code",
    "id": "FjnC8eTXBqjw"
   },
   "outputs": [],
   "source": [
    "# implementation of the decoder network\n",
    "class decoder(nn.Module):\n",
    "\n",
    "    # define class constructor\n",
    "    def __init__(self):\n",
    "\n",
    "        # call super class constructor\n",
    "        super(decoder, self).__init__()\n",
    "\n",
    "        # specify layer 1 - in 2, out 4\n",
    "        self.decoder_L1 = nn.Linear(in_features=2, out_features=4, bias=True) # init linearity\n",
    "        nn.init.xavier_uniform_(self.decoder_L1.weight) # init weights according to [9]\n",
    "        nn.init.constant_(self.decoder_L1.bias, 0.0) # constant initialization of the bias\n",
    "        self.decoder_R1 = nn.LeakyReLU(negative_slope=0.4, inplace=True) # add non-linearity according to [10]\n",
    "\n",
    "        # specify layer 2 - in 4, out 16\n",
    "        self.decoder_L2 = nn.Linear(4, 16, bias=True)\n",
    "        nn.init.xavier_uniform_(self.decoder_L2.weight)\n",
    "        nn.init.constant_(self.decoder_L2.bias, 0.0)\n",
    "        self.decoder_R2 = nn.LeakyReLU(negative_slope=0.4, inplace=True)\n",
    "\n",
    "        # specify layer 3 - in 16, out 64\n",
    "        self.decoder_L3 = nn.Linear(16, 64, bias=True)\n",
    "        nn.init.xavier_uniform_(self.decoder_L3.weight)\n",
    "        nn.init.constant_(self.decoder_L3.bias, 0.0)\n",
    "        self.decoder_R3 = nn.LeakyReLU(negative_slope=0.4, inplace=True)\n",
    "\n",
    "        # specify layer 4 - in 64, out 256\n",
    "        self.decoder_L4 = nn.Linear(64, 256, bias=True)\n",
    "        nn.init.xavier_uniform_(self.decoder_L4.weight)\n",
    "        nn.init.constant_(self.decoder_L4.bias, 0.0)\n",
    "        self.decoder_R4 = nn.LeakyReLU(negative_slope=0.4, inplace=True)\n",
    "        \n",
    "        # specify layer 5 - in 256, out 618\n",
    "        self.decoder_L5 = nn.Linear(256, ori_subset_transformed.shape[1], bias=True)\n",
    "        nn.init.xavier_uniform_(self.decoder_L5.weight)\n",
    "        nn.init.constant_(self.decoder_L5.bias, 0.0)\n",
    "        self.decoder_S5 = torch.nn.Sigmoid()\n",
    "        \n",
    "    # define forward pass\n",
    "    def forward(self, x):\n",
    "\n",
    "        # run forward pass through the network\n",
    "        x = self.decoder_R1(self.decoder_L1(x))\n",
    "        x = self.decoder_R2(self.decoder_L2(x))\n",
    "        x = self.decoder_R3(self.decoder_L3(x))\n",
    "        x = self.decoder_R4(self.decoder_L4(x))\n",
    "        x = self.decoder_S5(self.decoder_L5(x))\n",
    "\n",
    "        # return result\n",
    "        return x"
   ]
  },
  {
   "cell_type": "markdown",
   "metadata": {
    "colab_type": "text",
    "id": "QxpHMkmnBqjw"
   },
   "source": [
    "Wir instanzieren nun auch das Decoder Modell für das `CPU` bzw. `GPU`Training und überzeugen uns davon, dass das Modell erfolgreich initialisiert wurde. Hierzu visualisieren wir wieder die Netzarchitektur durch das Ausführen der nachfolgenden Zelle:"
   ]
  },
  {
   "cell_type": "code",
   "execution_count": 42,
   "metadata": {
    "colab": {
     "base_uri": "https://localhost:8080/",
     "height": 292
    },
    "colab_type": "code",
    "id": "dfME7m7fBqjw",
    "outputId": "df5e22ac-7eeb-43a2-e489-552db3f82d6a"
   },
   "outputs": [
    {
     "name": "stdout",
     "output_type": "stream",
     "text": [
      "[LOG 2022.12.08-21:57:52] decoder architecture:\n",
      "\n",
      "decoder(\n",
      "  (decoder_L1): Linear(in_features=2, out_features=4, bias=True)\n",
      "  (decoder_R1): LeakyReLU(negative_slope=0.4, inplace=True)\n",
      "  (decoder_L2): Linear(in_features=4, out_features=16, bias=True)\n",
      "  (decoder_R2): LeakyReLU(negative_slope=0.4, inplace=True)\n",
      "  (decoder_L3): Linear(in_features=16, out_features=64, bias=True)\n",
      "  (decoder_R3): LeakyReLU(negative_slope=0.4, inplace=True)\n",
      "  (decoder_L4): Linear(in_features=64, out_features=256, bias=True)\n",
      "  (decoder_R4): LeakyReLU(negative_slope=0.4, inplace=True)\n",
      "  (decoder_L5): Linear(in_features=256, out_features=618, bias=True)\n",
      "  (decoder_S5): Sigmoid()\n",
      ")\n",
      "\n"
     ]
    }
   ],
   "source": [
    "# intstantiate the decoder network model\n",
    "decoder_train = decoder()\n",
    "\n",
    "# push model to compute device\n",
    "decoder_train = decoder_train.to(device)\n",
    "    \n",
    "# print the initialized architectures\n",
    "now = dt.datetime.utcnow().strftime(\"%Y.%m.%d-%H:%M:%S\")\n",
    "print('[LOG {}] decoder architecture:\\n\\n{}\\n'.format(now, decoder_train))"
   ]
  },
  {
   "cell_type": "markdown",
   "metadata": {
    "colab_type": "text",
    "id": "962HA4IbBqjx"
   },
   "source": [
    "### 3.2 Discriminator Netzwerk Implementierung"
   ]
  },
  {
   "cell_type": "markdown",
   "metadata": {
    "colab_type": "text",
    "id": "1GO9ChOLBqjx"
   },
   "source": [
    "In einem finalen Schritt erweitern wir nun die Autoencoder Architektur des AAENNs um das dritte notwendige Netzwerk. Dies geschieht durch die Implementierung des **Discriminator Netzes $d_{\\theta}(z)$**. Der Discriminator soll aus insgesamt **vier Schichten** von fully-connected Neuronen bestehen. Hierbei ist zu beachten, dass die **Eingabeschicht des Discriminators** die gleiche Dimensionalität wie die **Ausgabeschicht des Encoders** aufweist. Die vier Schichten des Discriminators umfassen die nachfolgende Anzahl Neuronen pro Schicht 256-16-4-2."
   ]
  },
  {
   "cell_type": "code",
   "execution_count": 43,
   "metadata": {
    "colab": {},
    "colab_type": "code",
    "id": "4xLZxg0hBqjx"
   },
   "outputs": [],
   "source": [
    "# implementation of the discriminator network\n",
    "class discriminator(nn.Module):\n",
    "\n",
    "    # define class constructor\n",
    "    def __init__(self):\n",
    "\n",
    "        # call super class constructor\n",
    "        super(discriminator, self).__init__()\n",
    "\n",
    "        # specify first layer - in 2, out 256\n",
    "        self.discriminator_L1 = nn.Linear(2, 256, bias=True) # init linearity\n",
    "        nn.init.xavier_uniform_(self.discriminator_L1.weight) # init weights according to [9]\n",
    "        nn.init.constant_(self.discriminator_L1.bias, 0.0) # constant initialization of the bias\n",
    "        self.discriminator_R1 = nn.LeakyReLU(negative_slope=0.4, inplace=True) # add non-linearity according to [10]\n",
    "\n",
    "        # specify second layer - in 256, out 16\n",
    "        self.discriminator_L2 = nn.Linear(256, 16, bias=True)\n",
    "        nn.init.xavier_uniform_(self.discriminator_L2.weight)\n",
    "        nn.init.constant_(self.discriminator_L2.bias, 0.0)\n",
    "        self.discriminator_R2 = nn.LeakyReLU(negative_slope=0.4, inplace=True)\n",
    "\n",
    "        # specify third layer - in 16, out 4\n",
    "        self.discriminator_L3 = nn.Linear(16, 4, bias=True)\n",
    "        nn.init.xavier_uniform_(self.discriminator_L3.weight)\n",
    "        nn.init.constant_(self.discriminator_L3.bias, 0.0)\n",
    "        self.discriminator_R3 = nn.LeakyReLU(negative_slope=0.4, inplace=True)\n",
    "        \n",
    "        # specify fourth layer - in 4, out 2\n",
    "        self.discriminator_L4 = nn.Linear(4, 2, bias=True)\n",
    "        nn.init.xavier_uniform_(self.discriminator_L4.weight)\n",
    "        nn.init.constant_(self.discriminator_L4.bias, 0.0)\n",
    "        self.discriminator_S4 = torch.nn.Sigmoid()\n",
    "\n",
    "    # define forward pass\n",
    "    def forward(self, x):\n",
    "\n",
    "        # run forward pass through the network\n",
    "        x = self.discriminator_R1(self.discriminator_L1(x))\n",
    "        x = self.discriminator_R2(self.discriminator_L2(x))\n",
    "        x = self.discriminator_R3(self.discriminator_L3(x))\n",
    "        x = self.discriminator_S4(self.discriminator_L4(x))\n",
    "\n",
    "        # return result\n",
    "        return x"
   ]
  },
  {
   "cell_type": "markdown",
   "metadata": {},
   "source": [
    "Wir instanzieren nun auch das Discriminator Modell für das `CPU` bzw. `GPU`Training und überzeugen uns davon, dass das Modell erfolgreich initialisiert wurde. Hierzu visualisieren wir wieder die Netzarchitektur durch das Ausführen der nachfolgenden Zelle:"
   ]
  },
  {
   "cell_type": "code",
   "execution_count": 44,
   "metadata": {},
   "outputs": [
    {
     "name": "stdout",
     "output_type": "stream",
     "text": [
      "[LOG 2022.12.08-22:11:03] discriminator architecture:\n",
      "\n",
      "discriminator(\n",
      "  (discriminator_L1): Linear(in_features=2, out_features=256, bias=True)\n",
      "  (discriminator_R1): LeakyReLU(negative_slope=0.4, inplace=True)\n",
      "  (discriminator_L2): Linear(in_features=256, out_features=16, bias=True)\n",
      "  (discriminator_R2): LeakyReLU(negative_slope=0.4, inplace=True)\n",
      "  (discriminator_L3): Linear(in_features=16, out_features=4, bias=True)\n",
      "  (discriminator_R3): LeakyReLU(negative_slope=0.4, inplace=True)\n",
      "  (discriminator_L4): Linear(in_features=4, out_features=2, bias=True)\n",
      "  (discriminator_S4): Sigmoid()\n",
      ")\n",
      "\n"
     ]
    }
   ],
   "source": [
    "# intstantiate the discriminator network model\n",
    "discriminator_train = discriminator()\n",
    "\n",
    "# push model to compute device\n",
    "discriminator_train = discriminator_train.to(device)\n",
    "    \n",
    "# print the initialized architectures\n",
    "now = dt.datetime.utcnow().strftime(\"%Y.%m.%d-%H:%M:%S\")\n",
    "print('[LOG {}] discriminator architecture:\\n\\n{}\\n'.format(now, discriminator_train))"
   ]
  },
  {
   "cell_type": "markdown",
   "metadata": {},
   "source": [
    "Abschliessend werfen wir noch einen Blick auf die Anzahl der Modellparameter, die wir im Folgenden beabsichtigen zu trainieren:"
   ]
  },
  {
   "cell_type": "code",
   "execution_count": 46,
   "metadata": {
    "colab": {
     "base_uri": "https://localhost:8080/",
     "height": 238
    },
    "colab_type": "code",
    "id": "C2ktcdrpBqjz",
    "outputId": "e63c0a1c-7793-4e2c-cbcc-e6a88f34fd73"
   },
   "outputs": [
    {
     "name": "stdout",
     "output_type": "stream",
     "text": [
      "[LOG 2022.12.08-22:12:57] number of to be trained AAENN model parameters: 357634.\n"
     ]
    }
   ],
   "source": [
    "# init the number of encoder model parameters\n",
    "encoder_num_params = 0\n",
    "\n",
    "# iterate over the distinct encoder parameters\n",
    "for param in encoder_train.parameters():\n",
    "\n",
    "    # collect number of parameters\n",
    "    encoder_num_params += param.numel()\n",
    "\n",
    "# init the number of decoder model parameters\n",
    "decoder_num_params = 0\n",
    "    \n",
    "# iterate over the distinct decoder parameters\n",
    "for param in decoder_train.parameters():\n",
    "\n",
    "    # collect number of parameters\n",
    "    decoder_num_params += param.numel()\n",
    "\n",
    "# init the number of discriminator model parameters\n",
    "discriminator_num_params = 0\n",
    "    \n",
    "# iterate over the distinct discriminator parameters\n",
    "for param in discriminator_train.parameters():\n",
    "\n",
    "    # collect number of parameters\n",
    "    discriminator_num_params += param.numel()\n",
    "    \n",
    "# print the number of model paramters\n",
    "now = dt.datetime.utcnow().strftime(\"%Y.%m.%d-%H:%M:%S\")\n",
    "print('[LOG {}] number of to be trained AAENN model parameters: {}.'.format(now, encoder_num_params + decoder_num_params + discriminator_num_params))"
   ]
  },
  {
   "cell_type": "markdown",
   "metadata": {},
   "source": [
    "Ok, unser AAENN Modell umfasst eine beachtliche Gesamtzahl von **357.634 zu trainierenden Modellparametern**."
   ]
  },
  {
   "cell_type": "markdown",
   "metadata": {
    "colab_type": "text",
    "id": "3jVSyWCVBqjz"
   },
   "source": [
    "### 3.4 Adversarial Autoencoder Neural Network Training"
   ]
  },
  {
   "cell_type": "markdown",
   "metadata": {
    "colab_type": "text",
    "id": "igoc5tVzBqjz"
   },
   "source": [
    "Nachdem wir nun das AAENN implementiert haben, möchten wir in einem nächsten Schritt das Netz trainieren. Bevor wir jedoch mit dem Training beginnen, ist es notwendig geeignete Fehlerfunktionen zu definieren. Zur Erinnerung: Wir wollen das Modell jeweils in zwei Trainingsphasen trainieren, nämlich (1) einer **Rekonstruktionsphase** und (2) einer **Regularisierungsphase**. Im Folgenden werden wir die Trainingsparameter für jede der Beiden Trainingsphasen festlegen."
   ]
  },
  {
   "cell_type": "markdown",
   "metadata": {
    "colab_type": "text",
    "id": "LY6l5Ie3Bqjz"
   },
   "source": [
    "#### 3.4.1 Parametrisierung der Rekonstruktionsphase"
   ]
  },
  {
   "cell_type": "markdown",
   "metadata": {
    "colab_type": "text",
    "id": "84-nBtzeBqjz"
   },
   "source": [
    "In der Rekonstruktionsphase wird der Encoder $q_{\\theta}(z|x)$ trainiert, um eine aggregierte Posterior-Verteilung $q(z)$ der Journalbuchungen $X$ innerhalb des latenten Raums $Z$ zu lernen. Dabei entspricht die gelernte Posterior-Verteilung komprimierten Repräsentationen der Merkmale der Journalbuchungen. In Analogie zu klassischen Autoencoder Neuronalen Netzen nutzt der Decoder $p_{\\theta}(\\hat{x}|z)$ die gelernten latenten Repräsentationen $z_{i} \\in Z$, um die Journaleinträge so getreu wie möglich zu rekonstruieren $\\hat{X}$ und den Rekonstruktionsfehler der AAENNs zu minimieren."
   ]
  },
  {
   "cell_type": "markdown",
   "metadata": {
    "colab_type": "text",
    "id": "dhuwT1qcBqj0"
   },
   "source": [
    "Um dieses Lernziel zu erreichen, verwenden wir im folgenden unterschiedliche Rekonstruktionsfehler entsprechend der Art der zu rekonstruierenden Buchungsmerkmale. Für kategorische Merkmalsausprägungen $x^{i}_{cat}$, z.B. verwenden wir den **Binary-Cross-Entropy (BCE)** Rekonstruktionsfehler. Für numerische Merkmalsausprägungen $x^{i}_{con}$, z.B. , verwenden wir den **Mean-Squared-Error (MSE)** Rekonstruktionsfehler. Abschliessend werden pro zu rekonstruierender Journalbuchung $x^{i}$ beide Fehler additiv, wie nachfolgend, miteinander verknüpft:"
   ]
  },
  {
   "cell_type": "markdown",
   "metadata": {
    "colab_type": "text",
    "id": "gih4aR78Bqj0"
   },
   "source": [
    "<center> $\\mathcal{L}_{\\theta}^{REC}(x;\\hat{x}) = \\gamma \\hspace{1mm} \\mathcal{L}^{BCE}_{\\theta}(x_{cat};\\hat{x}_{cat}) + (1 - \\gamma) \\hspace{1mm} \\mathcal{L}^{MSE}_{\\theta}(x_{con};\\hat{x}_{con})$ </center>"
   ]
  },
  {
   "cell_type": "markdown",
   "metadata": {
    "colab_type": "text",
    "id": "LCYwmGUOBqj0"
   },
   "source": [
    "wobei $x^{i}$, $i=1,...,n$ die Menge an Buchungen bezeichnet, $\\hat{x}^{i}$ die jeweiligen Rekonstruktionen und $j=1,...,k$ die verschiedenen Buchungsattribute indexiert. Nachfolgend instanzieren wir die entsprechende BCE Fehlerfunktion $\\mathcal{L}^{BCE}$ und MSE Fehlerfunktion $\\mathcal{L}^{MSE}$ der `PyTorch` Bibliothek:"
   ]
  },
  {
   "cell_type": "code",
   "execution_count": 48,
   "metadata": {
    "colab": {},
    "colab_type": "code",
    "id": "CLZkO1D1Bqj0"
   },
   "outputs": [],
   "source": [
    "# define the bce optimization criterion / loss function\n",
    "reconstruction_loss_categorical = nn.BCELoss(reduction='mean')\n",
    "\n",
    "# define the mse optimization criterion / loss function\n",
    "reconstruction_loss_numerical = nn.MSELoss(reduction='mean')"
   ]
  },
  {
   "cell_type": "markdown",
   "metadata": {},
   "source": [
    "Anschliessend transferieren wir die Berechnung der beiden Fehlerfunktionen auf die `CPU` oder eine ggf. verfügbare `GPU`:"
   ]
  },
  {
   "cell_type": "code",
   "execution_count": 49,
   "metadata": {},
   "outputs": [],
   "source": [
    "# push the optimization criterion / loss function to compute device \n",
    "reconstruction_loss_categorical = reconstruction_loss_categorical.to(device)\n",
    "reconstruction_loss_numerical = reconstruction_loss_numerical.to(device)"
   ]
  },
  {
   "cell_type": "markdown",
   "metadata": {
    "colab_type": "text",
    "id": "ZnljTPUbBqj1"
   },
   "source": [
    "Auf der Grundlage der Fehlerhöhe eines Mini-Batches an Buchungen berechnet die `PyTorch` Bibliothek automatisiert die Gradienten. Anschliessend werden AAENN-Parameter $\\theta$ auf Grundlage der ermittelten Gradienten optimiert. Hierzu ist es notwendig das gewünschte Optimierungsverfahren in **PyTorch** zu definieren. In der nachfolgenden Notebook Zelle verwenden wir das sog. **Adam Optimierungsverfahren** für die Optimierung der Modellparameter $\\theta$. Darüber hinaus definieren eine Lernrate $l = 0.001$ sowohl für die Optimierung des Encoder als auch das Decoder Netzwerk:"
   ]
  },
  {
   "cell_type": "code",
   "execution_count": 50,
   "metadata": {
    "colab": {},
    "colab_type": "code",
    "id": "RJ7dte_JBqj1"
   },
   "outputs": [],
   "source": [
    "# set encoder and decoder learning rate\n",
    "learning_rate_encoder = 1e-3\n",
    "learning_rate_decoder = 1e-3\n",
    "\n",
    "# define encoder and decoder optimization strategy\n",
    "encoder_optimizer = optim.Adam(encoder_train.parameters(), lr=learning_rate_encoder)\n",
    "decoder_optimizer = optim.Adam(decoder_train.parameters(), lr=learning_rate_decoder)"
   ]
  },
  {
   "cell_type": "markdown",
   "metadata": {
    "colab_type": "text",
    "id": "3YnBKo9EBqj1"
   },
   "source": [
    "#### 3.4.2 Parametrisierung der Regulierungsphase"
   ]
  },
  {
   "cell_type": "markdown",
   "metadata": {
    "colab_type": "text",
    "id": "W0TJJ6_cBqj1"
   },
   "source": [
    "In der Regularisierungsphase wird ein adversarial Trainingsverfahren angewandt, in welchem der Encoder $q_{\\theta}(z|x)$ des AAENN als Generator fungiert. Zusätzlich wird ein Diskriminator-Netzwerk $d_{\\phi}(z)$ auf den gelernten latenten Raum $Z$ aufgesetzt. In Analogie zum Training von Generative Adversarial Networks (GANs) wird der Discriminator des AAENN trainiert. Die Zielsetzung des Trainining ist es hierbei Samples einer **Fake Prior-Verteilung $p(z)$** in $z_{i} \\in Z$ von der erlernten **True Posterior-Verteilung $q(z)$** zu unterscheiden. Prallel hierzu wird der Encoder mit der Zielsetzung trainiert, eine **True Posterior-Verteilung** der Art zu lernen, dass $p(z) \\approx q(z)$. Hierdurch wird dem Diskriminator maximal verwirrt vorgaukelt, dass die aus $q(z)$ gezogenen Samples aus $p(z)$ stammen und umgekehrt. Eine hierfür geeignete Fehlerfunktion findet sich im sog. **Binary-Cross-Entropy (BCE)** Klassifikationsfehler, der formal wie nachfolgend definiert ist:"
   ]
  },
  {
   "cell_type": "markdown",
   "metadata": {},
   "source": [
    "<center> $\\mathcal{L^{Dis}_{\\phi}}(y^{i};\\hat{y}^{i}) = \\frac{1}{n}\\sum_{i=1}^{n} y^{i} ln(\\hat{y}^{i}) + (1-y^{i}) ln(1-\\hat{y}^{i})$, </center>"
   ]
  },
  {
   "cell_type": "markdown",
   "metadata": {},
   "source": [
    "wobei $y^{i}$ das tatsächliche Klassenlabel der Verteilung (Fake Prior oder True Posterior Verteilung) bezeichnet und $\\hat{y}^{i}$ das durch den Discriminator vorhergesagte Klassenlabel.  Nachfolgend instanzieren wir die entsprechende BCE Fehlerfunktion der `PyTorch` Bibliothek:"
   ]
  },
  {
   "cell_type": "code",
   "execution_count": 53,
   "metadata": {
    "colab": {},
    "colab_type": "code",
    "id": "YbijUiDQBqj1"
   },
   "outputs": [],
   "source": [
    "# define the bce optimization criterion / loss function\n",
    "discriminator_loss = nn.BCELoss()"
   ]
  },
  {
   "cell_type": "markdown",
   "metadata": {},
   "source": [
    "Anschliessend transferieren wir die Berechnung der Fehlerfunktion auf die `CPU` oder eine ggf. verfügbare `GPU`:"
   ]
  },
  {
   "cell_type": "code",
   "execution_count": 54,
   "metadata": {},
   "outputs": [],
   "source": [
    "# push the optimization criterion / loss function to compute device \n",
    "discriminator_loss = discriminator_loss.to(device)"
   ]
  },
  {
   "cell_type": "markdown",
   "metadata": {
    "colab_type": "text",
    "id": "Rjk_l79fBqj2"
   },
   "source": [
    "Auf der Grundlage der BCE Fehlerhöhe eines Mini-Batches von latenten Samples berechnet die `PyTorch` Bibliothek automatisiert die Gradienten. Anschliessend werden die Parameter des Discriminators $\\phi$ auf Grundlage der ermittelten Gradienten optimiert. In der nachfolgenden Notebook Zelle verwenden wir das sog. **Adam Optimierungsverfahren** für die Optimierung der $\\phi$ Parameter. Darüber hinaus definieren eine Lernrate $l = 0.00001$:"
   ]
  },
  {
   "cell_type": "code",
   "execution_count": 55,
   "metadata": {
    "colab": {},
    "colab_type": "code",
    "id": "6a1kOzS2Bqj3"
   },
   "outputs": [],
   "source": [
    "# set generator and discriminator learning rate\n",
    "learning_rate_discriminator = 1e-5\n",
    "\n",
    "# set generator and discriminator optimization strategy\n",
    "discriminator_optimizer = optim.Adam(discriminator_train.parameters(), lr=learning_rate_discriminator)"
   ]
  },
  {
   "cell_type": "markdown",
   "metadata": {
    "colab_type": "text",
    "id": "0WnBg9kaBqj5"
   },
   "source": [
    "Nachdem wir die drei Netze des aAENN-Modells erfolgreich implementiert und instanziiert haben. Nehmen wir uns Zeit, die Definition der Modelle **(1) Encoder**, **(2) Decoder** und **(3) Discriminator** sowie die Fehlerfunktionen nochmals zu überprüfen und etwaige Fragen zu besprechen."
   ]
  },
  {
   "cell_type": "markdown",
   "metadata": {
    "colab_type": "text",
    "id": "c-Cjxa-tBqj5"
   },
   "source": [
    "### 3.5 Gaussian Mixture Prior Implementierung"
   ]
  },
  {
   "cell_type": "markdown",
   "metadata": {
    "colab_type": "text",
    "id": "IX4_QvngBqj5"
   },
   "source": [
    "In einem nächsten Schritt erstellen wir eine Prior-Verteilung, welches es uns ermöglicht im Laufe des Trainingsprozesses zu samplen. Um die durch den AAENN gelernten Repräsentationen der Journalbuchungen im latenten Raum $Z$ zu partitionieren samplen wir aus einer **Prior-Verteilung $p(z)$, die aus einem Mixture von $\\tau$ multivariaten isotropen Gauss-Verteilungen $\\mathcal{N}(\\mu,\\mathcal{I})$ besteht**. Um die Ergebnisse im Nachfolgenden visualisieren zu können samplen wir aus einer zwei dimensionalen Prior-Verteilung $\\mu \\in \\mathcal{R}^{2}$ ist. Nachfolgend möchten wir die die Journalbuchungen in insgesamt fünf generative Prozesse partitionieren. Hierzu erstellen wir eine Prior-Verteilung $p(z)$, die insgesamt $\\tau=5$ isotropen Gauss-Verteilungen umfasst. \n",
    "\n",
    "Hierzu definieren wir zunächst die nachfolgenden vier Parameter: Anzahl Gauss-Verteilungen $\\tau$, Radius der einzelnen Verteilungen $r$, Standardabweichungen der Verteilungen $\\sigma$ und die Dimension der Verteilungen $\\mathcal{R}^{d}$:"
   ]
  },
  {
   "cell_type": "code",
   "execution_count": null,
   "metadata": {},
   "outputs": [],
   "source": [
    "# define the number of gaussians\n",
    "tau = 5 \n",
    "\n",
    "# define radius of each gaussian\n",
    "radius = 0.8\n",
    "\n",
    "# define the sigma of each gaussian\n",
    "sigma = 0.01\n",
    "\n",
    "# define the dimensionality of each gaussian\n",
    "dim = 2"
   ]
  },
  {
   "cell_type": "markdown",
   "metadata": {},
   "source": [
    "In einem nächsten Schritt, erstellen wir die gewünschte **Prior-Verteilung $p(z)$**. Hierzu samplen wir jeweils 1,000 zufällige samples von jeder Gauss-Verteilung der gewünschten Prior-Verteilung:"
   ]
  },
  {
   "cell_type": "code",
   "execution_count": 56,
   "metadata": {
    "colab": {},
    "colab_type": "code",
    "id": "VMVs7_FvBqj5"
   },
   "outputs": [],
   "source": [
    "# determine x and y coordinates of the target mixture of gaussians\n",
    "x_centroid = (radius * np.sin(np.linspace(0, 2 * np.pi, tau, endpoint=False)) + 1) / 2\n",
    "y_centroid = (radius * np.cos(np.linspace(0, 2 * np.pi, tau, endpoint=False)) + 1) / 2\n",
    "\n",
    "# determine each gaussians mean (centroid) and standard deviation\n",
    "mu_gauss = np.vstack([x_centroid, y_centroid]).T\n",
    "\n",
    "# determine the number of samples to be created per gaussian\n",
    "samples_per_gaussian = 100000\n",
    "\n",
    "# iterate over the number of distinct gaussians\n",
    "for i, mu in enumerate(mu_gauss):\n",
    "\n",
    "    # case: first gaussian distribution\n",
    "    if i == 0:\n",
    "\n",
    "        # randomly sample from gaussian distribution \n",
    "        z_continous_samples_all = np.random.normal(mu, sigma, size=(samples_per_gaussian, dim))\n",
    "\n",
    "    # case: non-first gaussian distribution\n",
    "    else:\n",
    "\n",
    "        # randomly sample from gaussian distribution\n",
    "        z_continous_samples = np.random.normal(mu, sigma, size=(samples_per_gaussian, dim))\n",
    "\n",
    "        # collect and stack new samples\n",
    "        z_continous_samples_all = np.vstack([z_continous_samples_all, z_continous_samples])"
   ]
  },
  {
   "cell_type": "markdown",
   "metadata": {
    "colab_type": "text",
    "id": "fT0CgtXSBqj7"
   },
   "source": [
    "Abschliessend möchten wir nun die gewünschte Prior-Verteilung $p(z)$ visuell prüfen:"
   ]
  },
  {
   "cell_type": "code",
   "execution_count": 61,
   "metadata": {
    "colab": {
     "base_uri": "https://localhost:8080/",
     "height": 408
    },
    "colab_type": "code",
    "id": "FozilkQNBqj8",
    "outputId": "f44fbd9b-d585-408a-943a-33745de73bd6"
   },
   "outputs": [
    {
     "data": {
      "image/png": "[encoded data removed]",
      "text/plain": [
       "<Figure size 600x600 with 1 Axes>"
      ]
     },
     "metadata": {},
     "output_type": "display_data"
    }
   ],
   "source": [
    "# init the plot\n",
    "fig = plt.figure(figsize=(4, 4))\n",
    "ax = fig.add_subplot(111)\n",
    "\n",
    "# plot prior distribution scatter plot\n",
    "ax.scatter(z_continous_samples_all[:, 0], z_continous_samples_all[:, 1], c='C0', marker=\"o\", edgecolors='w', linewidth=0.5) \n",
    "\n",
    "# add axis labels\n",
    "ax.set_xlabel('$z_1$')\n",
    "ax.set_ylabel('$z_2$')\n",
    "\n",
    "# add plot title\n",
    "ax.set_title('Prior Distribution $p(z)$', size=10);"
   ]
  },
  {
   "cell_type": "markdown",
   "metadata": {
    "colab_type": "text",
    "id": "aE1w_stCBqj8"
   },
   "source": [
    "Ok, die Samples der gewünschten Prior-Verteilung $p(z)$ entsprechen der erwarteten Verteilung. Anschliessend werden wir die Verteilung nun im Rahmen des AAENN Trainings verwenden."
   ]
  },
  {
   "cell_type": "markdown",
   "metadata": {
    "colab_type": "text",
    "id": "rAvFBlyeBqj8"
   },
   "source": [
    "## 4. Adversarial Autoencoder Neural Network Network"
   ]
  },
  {
   "cell_type": "markdown",
   "metadata": {
    "colab_type": "text",
    "id": "j2KNFyqFBqj8"
   },
   "source": [
    "In diesem Abschnitt möchten wir nun ein AAENN-Modell anhand der kodierten Transaktionsdaten trainieren. Darüber hinaus werfen wir einen detaillierten Blick auf die einzelnen Trainingshyperparameter und Trainingsschritte sowie den Trainingsfortschritt im Zeitverlauf. "
   ]
  },
  {
   "cell_type": "markdown",
   "metadata": {
    "colab_type": "text",
    "id": "S_NsNMmlBqj8"
   },
   "source": [
    "### 4.1 Definition der Hyperparameter"
   ]
  },
  {
   "cell_type": "markdown",
   "metadata": {},
   "source": [
    "Beginnen wir nun damit, ein AAENN Modell für **100 Trainingsepochen** und **128 Buchungen pro Mini-Batch** zu trainieren. Diese Konfiguration der Hyperparameter bedeutet, dass der Datensatz dem AENN ingesamt hundertmal in Mini-Batches von 128 jeweils Buchungen zugeführt wird. Diese Hyperparameter Konfiguration hat zu Folge, dass pro Trainingsepoche **4,165 Updates** (533,009 Buchungen modulo 128 Buchungen pro Mini-Batch) der AAENN Modellparameter erfolgen. "
   ]
  },
  {
   "cell_type": "code",
   "execution_count": 62,
   "metadata": {
    "colab": {},
    "colab_type": "code",
    "id": "0VXom63JBqj9"
   },
   "outputs": [],
   "source": [
    "# specify training parameters\n",
    "num_epochs = 10 # number of training epochs\n",
    "mini_batch_size = 128 # size of the mini-batches"
   ]
  },
  {
   "cell_type": "markdown",
   "metadata": {},
   "source": [
    "Während der Trainingsphase sollen dem AENN Modell kontinuierlich Mini-Batches der gesamten Population von Buchungen zugeführt werden. Hierzu verwenden wir die `DataLoader` Funktionalität der `PyTorch` Bibliothek. Dabei handelt es sich im sog. Iteratoren, welche die Buchungen kontinuierlich in Form von Mini-Batches zur Verfügung stellen. Durch die Aktivierung des Parameters `shuffle=True` werden die Daten in jeder Epoche neu gemischt, bevor sie dem Netz zugeführt werden. In der nachfolgenden Zelle instanzieren wir einen PyTorch Dataloader der Buchungsdaten:"
   ]
  },
  {
   "cell_type": "code",
   "execution_count": 63,
   "metadata": {
    "colab": {},
    "colab_type": "code",
    "id": "UNeHachtBqj9"
   },
   "outputs": [],
   "source": [
    "# convert pre-processed transactional data to PyTorch tensor\n",
    "torch_dataset = torch.from_numpy(ori_subset_transformed.values).float()\n",
    "\n",
    "# push pre-processed transactional data to compute device\n",
    "torch_dataset = torch_dataset.to(device)\n",
    "\n",
    "# init training dataloader\n",
    "train_dataloader = dataloader.DataLoader(torch_dataset, batch_size=mini_batch_size, shuffle=True)"
   ]
  },
  {
   "cell_type": "markdown",
   "metadata": {
    "colab_type": "text",
    "id": "9fpSkBadBqj-"
   },
   "source": [
    "### 4.2 Training des Models"
   ]
  },
  {
   "cell_type": "markdown",
   "metadata": {
    "colab_type": "text",
    "id": "1XebdkhVBqj-"
   },
   "source": [
    "Finally, we start training the model. The training procedure of each mini-batch is performed in two phases, namely a (1) reconstruction phase and (2) regularization phase. The distinct training steps conducted during the reconstruction phase are the following:\n",
    "\n",
    ">1. do a journal entry batch forward pass through the encoder-decoder networks,\n",
    ">2. compute the combined reconstruction loss $\\mathcal{L}_{\\theta}^{REC}(x^{i};\\hat{x}^{i})$, \n",
    ">3. do a backward pass through the encoder-decoder part, and,\n",
    ">4. update the parameters of the encoder $q_\\theta(\\cdot)$ and decoder $p_\\theta(\\cdot)$ networks.\n",
    "\n",
    "The distinct training steps conducted during the regularization phase are the following (discriminator training):\n",
    "\n",
    ">1. do a journal entry batch forward pass through the generator network to obtain representation $z^{i}_{fake} \\sim q_\\theta(\\cdot)$,\n",
    ">2. sample representation from the imposed mixture of Gaussians prior distribution $z^{i}_{real} \\sim p(\\cdot)$,\n",
    ">3. compute the discrimination loss $\\mathcal{L}_{\\theta}^{DIS}(z^{i}_{fake}; z^{i}_{real})$, and,\n",
    ">4. update the parameters of the discriminator $d_\\phi(\\cdot)$ network.\n",
    "\n",
    "The distinct training steps conducted during the regularization phase are the following (generator training):\n",
    "\n",
    ">1. do a journal entry batch forward pass through the generator network to obtain representation $z^{i}_{fake} \\sim q_\\theta(\\cdot)$,\n",
    ">2. compute the generation loss $\\mathcal{L}_{\\theta}^{GEN}(z^{i}_{fake})$, and,\n",
    ">3. update the parameters of the generator $q_\\theta(\\cdot)$ network.\n",
    "\n",
    "To ensure learning while training our AENN model we will monitor whether the distinct losses decrease with progressing training. Therefore, we obtain and evaluate the reconstruction loss $\\mathcal{L}_{\\theta}^{REC}$, the discrimination loss $\\mathcal{L}_{\\theta}^{DIS}$, as well as, the generation loss $\\mathcal{L}_{\\theta}^{GEN}$ of the entire dataset after each training epoch. Based on this evaluation we conclude on the training progress and whether the loss is converging (indicating that the learned model might not improve any further).\n",
    "\n",
    "In addition, after each training epoch we want to save a checkpoint for both the actual `encoder`, `decoder` and `discriminator` model. The saved model checkpoints contain a snapshot of the trained model parameter values upon completion of a training epoch. In general, it is good practice, to save checkpoints at regular intervals during training. In case your system crashes during training you are able continue from the last checkpoint rather than start over from scratch.\n",
    "\n",
    ">- `torch.save()`: saves a checkpoint of the actual encoder and decoder model parameter values to disc."
   ]
  },
  {
   "cell_type": "markdown",
   "metadata": {
    "colab_type": "text",
    "id": "W9_TP_8mBqj-"
   },
   "source": [
    "Initialize the per epoch collected model losses:"
   ]
  },
  {
   "cell_type": "code",
   "execution_count": null,
   "metadata": {
    "colab": {},
    "colab_type": "code",
    "id": "SaInCIZCBqj-"
   },
   "outputs": [],
   "source": [
    "# init collection of training losses\n",
    "epoch_reconstruction_losses = []\n",
    "epoch_discriminator_losses = []\n",
    "epoch_generator_losses = []"
   ]
  },
  {
   "cell_type": "markdown",
   "metadata": {
    "colab_type": "text",
    "id": "ldlDCuyRBqj_"
   },
   "source": [
    "Define the verbose step size of the adversarial autoencoder training process:"
   ]
  },
  {
   "cell_type": "code",
   "execution_count": null,
   "metadata": {
    "colab": {},
    "colab_type": "code",
    "id": "9ZqwzewXBqj_"
   },
   "outputs": [],
   "source": [
    "mini_batch_verbose_step = 1000"
   ]
  },
  {
   "cell_type": "markdown",
   "metadata": {
    "colab_type": "text",
    "id": "w6usKHnkBqkA"
   },
   "source": [
    "Let's now start the adversarial autoencoder network training:"
   ]
  },
  {
   "cell_type": "code",
   "execution_count": null,
   "metadata": {
    "colab": {
     "base_uri": "https://localhost:8080/",
     "height": 527
    },
    "colab_type": "code",
    "id": "nq5Ba-2bBqkA",
    "outputId": "9dd806be-7b21-4edb-c884-04537c6fd593"
   },
   "outputs": [],
   "source": [
    "# initialize training adversarial autoencoder model\n",
    "for epoch in range(num_epochs):\n",
    "\n",
    "    # init mini batch counter\n",
    "    mini_batch_count = 0\n",
    "    \n",
    "    # init epoch training losses\n",
    "    batch_reconstruction_losses = 0.0\n",
    "    batch_discriminator_losses = 0.0\n",
    "    batch_generator_losses = 0.0\n",
    "\n",
    "    # determine if GPU training is enabled\n",
    "    if (torch.backends.cudnn.version() != None) and (USE_CUDA == True):\n",
    "\n",
    "        # set all networks / models in GPU mode\n",
    "        encoder_train.cuda()\n",
    "        decoder_train.cuda()\n",
    "        discriminator_train.cuda()\n",
    "\n",
    "    # set networks in training mode (apply dropout when needed)\n",
    "    encoder_train.train()\n",
    "    decoder_train.train()\n",
    "    discriminator_train.train()\n",
    "    \n",
    "    # start timer\n",
    "    start_time = datetime.now()\n",
    "\n",
    "    # iterate over epoch mini batches\n",
    "    for mini_batch_data in dataloader:\n",
    "\n",
    "        # increase mini batch counter\n",
    "        mini_batch_count += 1\n",
    "\n",
    "        # determine if GPU training is enabled\n",
    "        if (torch.backends.cudnn.version() != None) and (USE_CUDA == True):\n",
    "          \n",
    "            # convert mini batch to torch variable\n",
    "            mini_batch_torch = torch.cuda.FloatTensor(mini_batch_data)\n",
    "\n",
    "        else:\n",
    "          \n",
    "             # convert mini batch to torch variable\n",
    "             mini_batch_torch = torch.FloatTensor(mini_batch_data)\n",
    "        \n",
    "        # reset the networks gradients\n",
    "        encoder_train.zero_grad()\n",
    "        decoder_train.zero_grad()\n",
    "        discriminator_train.zero_grad()\n",
    "\n",
    "        # =================== reconstruction phase =====================\n",
    "        \n",
    "        # run autoencoder encoding - decoding\n",
    "        z_sample = encoder_train(mini_batch_torch)\n",
    "        mini_batch_reconstruction = decoder_train(z_sample)\n",
    "\n",
    "        # split input date to numerical and categorical part\n",
    "        batch_cat = mini_batch_torch[:, :ori_dataset_categ_transformed.shape[1]]\n",
    "        batch_num = mini_batch_torch[:, ori_dataset_categ_transformed.shape[1]:]\n",
    "        \n",
    "        # split reconstruction to numerical and categorical part\n",
    "        rec_batch_cat = mini_batch_reconstruction[:, :ori_dataset_categ_transformed.shape[1]]\n",
    "        rec_batch_num = mini_batch_reconstruction[:, ori_dataset_categ_transformed.shape[1]:]\n",
    "\n",
    "        # backward pass + gradients update\n",
    "        rec_error_cat = reconstruction_criterion_categorical(input=rec_batch_cat, target=batch_cat)  # one-hot attr error\n",
    "        rec_error_num = reconstruction_criterion_numeric(input=rec_batch_num, target=batch_num)  # numeric attr error\n",
    "\n",
    "        # combine both reconstruction errors\n",
    "        reconstruction_loss = rec_error_cat + rec_error_num\n",
    "        \n",
    "        # run backward pass - determine gradients\n",
    "        reconstruction_loss.backward()\n",
    "        \n",
    "        # collect batch reconstruction loss\n",
    "        batch_reconstruction_losses += reconstruction_loss.item()\n",
    "        \n",
    "        # update network parameter - decoder and encoder\n",
    "        decoder_optimizer.step()\n",
    "        encoder_optimizer.step()\n",
    "\n",
    "        # =================== regularization phase =====================\n",
    "        # =================== discriminator training ===================\n",
    "\n",
    "        # set discriminator in evaluation mode\n",
    "        discriminator_train.eval()\n",
    "\n",
    "        # generate target latent space data\n",
    "        z_target_batch = z_continous_samples_all[random.sample(range(0, z_continous_samples_all.shape[0]), mini_batch_size),:]\n",
    "\n",
    "        # convert to torch tensor\n",
    "        z_target_batch = torch.FloatTensor(z_target_batch)\n",
    "\n",
    "        if (torch.backends.cudnn.version() != None) and (USE_CUDA == True):\n",
    "            z_target_batch = z_target_batch.cuda()\n",
    "\n",
    "        # determine mini batch sample generated by the encoder -> fake gaussian sample\n",
    "        z_fake_gauss = encoder_train(mini_batch_torch)\n",
    "\n",
    "        # determine discriminator classification of both samples\n",
    "        d_real_gauss = discriminator_train(z_target_batch) # real sampled gaussian \n",
    "        d_fake_gauss = discriminator_train(z_fake_gauss) # fake created gaussian\n",
    "\n",
    "        # determine discriminator classification target variables\n",
    "        d_real_gauss_target = torch.FloatTensor(torch.ones(d_real_gauss.shape)) # real -> 1\n",
    "        d_fake_gauss_target = torch.FloatTensor(torch.zeros(d_fake_gauss.shape)) # fake -> 0\n",
    "\n",
    "        # determine if GPU training is enabled\n",
    "        if (torch.backends.cudnn.version() != None) and (USE_CUDA == True):\n",
    "\n",
    "            # push tensors to CUDA\n",
    "            d_real_gauss_target = d_real_gauss_target.cuda()\n",
    "            d_fake_gauss_target = d_fake_gauss_target.cuda()\n",
    "\n",
    "        # determine individual discrimination losses\n",
    "        discriminator_loss_real = discriminator_criterion(target=d_real_gauss_target, input=d_real_gauss) # real loss\n",
    "        discriminator_loss_fake = discriminator_criterion(target=d_fake_gauss_target, input=d_fake_gauss) # fake loss\n",
    "        \n",
    "        # add real loss and fake loss\n",
    "        discriminator_loss = discriminator_loss_fake + discriminator_loss_real\n",
    "\n",
    "        # run backward through the discriminator network\n",
    "        discriminator_loss.backward()\n",
    "        \n",
    "        # collect discriminator loss\n",
    "        batch_discriminator_losses += discriminator_loss.item()\n",
    "\n",
    "        # update network the discriminator network parameters\n",
    "        discriminator_optimizer.step()\n",
    "\n",
    "        # reset the networks gradients\n",
    "        encoder_train.zero_grad()\n",
    "        decoder_train.zero_grad()\n",
    "        discriminator_train.zero_grad()\n",
    "\n",
    "        # =================== regularization phase =====================\n",
    "        # =================== generator training =======================\n",
    "\n",
    "        # set encoder / generator in training mode\n",
    "        encoder_train.train()\n",
    "        \n",
    "        # reset the encoder / generator networks gradients\n",
    "        encoder_train.zero_grad()\n",
    "\n",
    "        # determine fake gaussian sample generated by the encoder / generator\n",
    "        z_fake_gauss = encoder_train(mini_batch_torch)\n",
    "\n",
    "        # determine discriminator classification of fake gaussian sample\n",
    "        d_fake_gauss = discriminator_train(z_fake_gauss)\n",
    "\n",
    "        # determine discriminator classification target variables\n",
    "        d_fake_gauss_target = torch.FloatTensor(torch.ones(d_fake_gauss.shape)) # fake -> 1\n",
    "\n",
    "        # determine if GPU training is enabled\n",
    "        if (torch.backends.cudnn.version() != None) and (USE_CUDA == True):\n",
    "\n",
    "            # push tensors to CUDA\n",
    "            d_fake_gauss_target = d_fake_gauss_target.cuda()\n",
    "\n",
    "        # determine discrimination loss of fake gaussian sample\n",
    "        generator_loss = discriminator_criterion(target=d_fake_gauss_target, input=d_fake_gauss)\n",
    "        \n",
    "        # collect generator loss\n",
    "        batch_generator_losses += generator_loss.item()\n",
    "\n",
    "        # run backward pass - determine gradients\n",
    "        generator_loss.backward()\n",
    "\n",
    "        # update network paramaters - encoder / generatorc\n",
    "        encoder_optimizer.step()\n",
    "\n",
    "        # reset the networks gradients\n",
    "        encoder_train.zero_grad()\n",
    "        decoder_train.zero_grad()\n",
    "        discriminator_train.zero_grad()\n",
    "\n",
    "    # collect epoch training losses - reconstruction loss\n",
    "    epoch_reconstruction_loss = batch_reconstruction_losses / mini_batch_count\n",
    "    epoch_reconstruction_losses.extend([epoch_reconstruction_loss])\n",
    "    \n",
    "    # collect epoch training losses - discriminator loss\n",
    "    epoch_discriminator_loss = batch_discriminator_losses / mini_batch_count\n",
    "    epoch_discriminator_losses.extend([epoch_discriminator_loss])\n",
    "    \n",
    "    # collect epoch training losses - generator loss\n",
    "    epoch_generator_loss = batch_generator_losses / mini_batch_count\n",
    "    epoch_generator_losses.extend([epoch_generator_loss])\n",
    "    \n",
    "    # print epoch reconstruction loss\n",
    "    now = datetime.utcnow().strftime(\"%Y%m%d-%H:%M:%S\")\n",
    "    print('[LOG TRAIN {}] epoch: {:04}/{:04}, reconstruction loss: {:.4f}'.format(now, epoch + 1, num_epochs, epoch_reconstruction_loss))\n",
    "    print('[LOG TRAIN {}] epoch: {:04}/{:04}, discriminator loss: {:.4f}'.format(now, epoch + 1, num_epochs, epoch_discriminator_loss))\n",
    "    print('[LOG TRAIN {}] epoch: {:04}/{:04}, generator loss: {:.4f}'.format(now, epoch + 1, num_epochs, epoch_generator_loss))\n",
    "    \n",
    "    # =================== save model snapshots to disk ============================\n",
    "    \n",
    "    # save trained encoder model file to disk\n",
    "    now = datetime.utcnow().strftime(\"%Y%m%d-%H_%M_%S\")\n",
    "    encoder_model_name = \"{}_ep_{}_encoder_model.pth\".format(now, (epoch+1))\n",
    "    torch.save(encoder_train.state_dict(), os.path.join(\"./models\", encoder_model_name))\n",
    "\n",
    "    # save trained decoder model file to disk\n",
    "    decoder_model_name = \"{}_ep_{}_decoder_model.pth\".format(now, (epoch+1))\n",
    "    torch.save(decoder_train.state_dict(), os.path.join(\"./models\", decoder_model_name))\n",
    "    \n",
    "    # save trained discriminator model file to disk\n",
    "    decoder_model_name = \"{}_ep_{}_discriminator_model.pth\".format(now, (epoch+1))\n",
    "    torch.save(discriminator_train.state_dict(), os.path.join(\"./models\", decoder_model_name))"
   ]
  },
  {
   "cell_type": "markdown",
   "metadata": {
    "colab_type": "text",
    "id": "tnHdNC0nBqkA"
   },
   "source": [
    "Let's now evaluate the magnitude of the distinct losses with progressing training:"
   ]
  },
  {
   "cell_type": "code",
   "execution_count": null,
   "metadata": {
    "colab": {
     "base_uri": "https://localhost:8080/",
     "height": 312
    },
    "colab_type": "code",
    "id": "wkrpELqHBqkA",
    "outputId": "3b8a71cf-5278-4c0f-95a4-da55b3557bb9"
   },
   "outputs": [],
   "source": [
    "# plot the reconstruction loss per training epoch\n",
    "plt.plot(range(1, len(epoch_reconstruction_losses)+1), epoch_reconstruction_losses)\n",
    "\n",
    "# set plot title\n",
    "plt.title('AAE training performance')\n",
    "\n",
    "# set plot axis labels\n",
    "plt.xlabel('training epochs')\n",
    "plt.ylabel('reconstruction loss')"
   ]
  },
  {
   "cell_type": "code",
   "execution_count": null,
   "metadata": {
    "colab": {
     "base_uri": "https://localhost:8080/",
     "height": 312
    },
    "colab_type": "code",
    "id": "e4g9UCw1BqkB",
    "outputId": "6d595937-549b-47a5-d132-68f43d4e148d"
   },
   "outputs": [],
   "source": [
    "# plot the discriminator loss per training epoch\n",
    "plt.plot(range(0, len(epoch_discriminator_losses)), epoch_discriminator_losses)\n",
    "\n",
    "# set plot title\n",
    "plt.title('AENN training performance')\n",
    "\n",
    "# set plot axis labels\n",
    "plt.xlabel('training epochs')\n",
    "plt.ylabel('discrimination loss')"
   ]
  },
  {
   "cell_type": "code",
   "execution_count": null,
   "metadata": {
    "colab": {
     "base_uri": "https://localhost:8080/",
     "height": 312
    },
    "colab_type": "code",
    "id": "xpbcRem9BqkB",
    "outputId": "7510517d-b132-4048-dd8a-1c6c92d8194b"
   },
   "outputs": [],
   "source": [
    "# plot the generator loss per training epoch\n",
    "plt.plot(range(0, len(epoch_generator_losses)), epoch_generator_losses)\n",
    "\n",
    "# set plot title\n",
    "plt.title('AENN training performance')\n",
    "\n",
    "# set plot axis labels\n",
    "plt.xlabel('training epochs')\n",
    "plt.ylabel('generation loss')"
   ]
  },
  {
   "cell_type": "markdown",
   "metadata": {
    "colab_type": "text",
    "id": "Kv6lhcx8BqkC"
   },
   "source": [
    "How does the reconstruction loss change as we progress in training our model? After 5 epochs, we can observe that our reconstruction loss already went down significantly and starts to converge nicely. This indicates that our network did a pretty good job in learning the structure and attributes of the journal entries.\n",
    "\n",
    "But, from the plot we also observe that the model could probably be trained a couple more epochs as the trend of the reconstruction error still decreases for the last few epochs. In order to save time, we will continue the lab using a pre-trained model already trained by 20 epochs."
   ]
  },
  {
   "cell_type": "markdown",
   "metadata": {
    "colab_type": "text",
    "id": "UoQOZj-rBqkC"
   },
   "source": [
    "## 5. Evaluating the Autoencoder Neural Network (AENN) Model"
   ]
  },
  {
   "cell_type": "markdown",
   "metadata": {
    "colab_type": "text",
    "id": "ha6OVXjTBqkC"
   },
   "source": [
    "In order, to detect interpretable accounting anomalies in real-world ERP datasets we propose a novel anomaly score utilizing the introduced AAE architecture. The score builds on the regularisation applied throughout the AAE training process, namely the reconstruction error loss and the adversarial loss, described in the following."
   ]
  },
  {
   "cell_type": "markdown",
   "metadata": {
    "colab_type": "text",
    "id": "54rLvmZXBqkC"
   },
   "source": [
    "As the training of such model is computationally expensive, within the scope of this notebook we provide the pretrained model (400 training epochs) that can be used to assess the proposed anomaly score."
   ]
  },
  {
   "cell_type": "code",
   "execution_count": null,
   "metadata": {
    "colab": {
     "base_uri": "https://localhost:8080/",
     "height": 34
    },
    "colab_type": "code",
    "id": "pv35N4kEBqkC",
    "outputId": "c6f0c4ac-5a22-432c-e4b5-820988b0cb90"
   },
   "outputs": [],
   "source": [
    "\n",
    "# restore pretrained model checkpoint\n",
    "encoder_model_name = 'https://raw.githubusercontent.com/GitiHubi/deepAD/master/models/20190818-03_22_18_ep_401_encoder_model.pth'\n",
    "decoder_model_name = 'https://raw.githubusercontent.com/GitiHubi/deepAD/master/models/20190818-03_22_18_ep_401_decoder_model.pth'\n",
    "\n",
    "# Read stored model from the remote location\n",
    "encoder_bytes = urllib.request.urlopen(encoder_model_name)\n",
    "decoder_bytes = urllib.request.urlopen(decoder_model_name)\n",
    "\n",
    "# Load tensor from io.BytesIO object\n",
    "encoder_buffer = io.BytesIO(encoder_bytes.read())\n",
    "decoder_buffer = io.BytesIO(decoder_bytes.read())\n",
    "\n",
    "# init training network classes / architectures\n",
    "encoder_eval = Encoder(input_size=ori_subset_transformed.shape[1], hidden_size=[256, 64, 16, 4, 2])\n",
    "decoder_eval = Decoder(output_size=ori_subset_transformed.shape[1], hidden_size=[2, 4, 16, 64, 256])\n",
    "\n",
    "# push to cuda if cudnn is available\n",
    "if (torch.backends.cudnn.version() != None) and (USE_CUDA == True):\n",
    "    encoder_eval = encoder_eval.cuda()\n",
    "    decoder_eval = decoder_eval.cuda()\n",
    "    \n",
    "# load trained models\n",
    "encoder_eval.load_state_dict(torch.load(encoder_buffer))\n",
    "decoder_eval.load_state_dict(torch.load(decoder_buffer))"
   ]
  },
  {
   "cell_type": "markdown",
   "metadata": {
    "colab_type": "text",
    "id": "kpXoyzWrBqkD"
   },
   "source": [
    "Let's also specify a dataloader that provides the ability to evaluate the journal entrie in an \"unshuffled\" batch-wise manner:"
   ]
  },
  {
   "cell_type": "code",
   "execution_count": null,
   "metadata": {
    "colab": {},
    "colab_type": "code",
    "id": "5IJRjyXqBqkD"
   },
   "outputs": [],
   "source": [
    "# convert pre-processed data to pytorch tensor\n",
    "torch_dataset = torch.from_numpy(ori_subset_transformed.values).float()\n",
    "\n",
    "# convert to pytorch tensor - none cuda enabled\n",
    "dataloader_eval = DataLoader(torch_dataset, batch_size=mini_batch_size, shuffle=False, num_workers=0)\n",
    "\n",
    "# determine if CUDA is available at the compute node\n",
    "if (torch.backends.cudnn.version() != None) and (USE_CUDA == True):\n",
    "    \n",
    "    # push dataloader to CUDA\n",
    "    dataloader_eval = DataLoader(torch_dataset.cuda(), batch_size=mini_batch_size, shuffle=False)"
   ]
  },
  {
   "cell_type": "markdown",
   "metadata": {
    "colab_type": "text",
    "id": "9BycUlpLBqkD"
   },
   "source": [
    "### 5.1 Visualize the Latent Space Represenation"
   ]
  },
  {
   "cell_type": "markdown",
   "metadata": {
    "colab_type": "text",
    "id": "BW9cvdFwBqkE"
   },
   "source": [
    "Perform the feed forward pass through the pretrained encoder model and collect learned representations of all journal entries."
   ]
  },
  {
   "cell_type": "code",
   "execution_count": null,
   "metadata": {
    "colab": {},
    "colab_type": "code",
    "id": "y0M9EGtWBqkE"
   },
   "outputs": [],
   "source": [
    "# set networks in evaluation mode (don't apply dropout)\n",
    "encoder_eval.eval()\n",
    "decoder_eval.eval()\n",
    "\n",
    "# init batch count\n",
    "batch_count = 0\n",
    "\n",
    "# iterate over epoch mini batches\n",
    "for enc_transactions_batch in dataloader_eval:\n",
    "\n",
    "    # determine latent space representation of all transactions\n",
    "    z_enc_transactions_batch = encoder_eval(enc_transactions_batch)\n",
    "    \n",
    "    # case: initial batch \n",
    "    if batch_count == 0:\n",
    "\n",
    "      # collect reconstruction errors of batch\n",
    "      z_enc_transactions_all = z_enc_transactions_batch\n",
    "      \n",
    "    # case: non-initial batch\n",
    "    else:\n",
    "      \n",
    "      # collect reconstruction errors of batch\n",
    "      z_enc_transactions_all = torch.cat((z_enc_transactions_all, z_enc_transactions_batch), dim=0)\n",
    "    \n",
    "    # increase batch count\n",
    "    batch_count += 1\n",
    "\n",
    "# convert to numpy array\n",
    "z_enc_transactions_all = z_enc_transactions_all.cpu().detach().numpy()\n"
   ]
  },
  {
   "cell_type": "markdown",
   "metadata": {
    "colab_type": "text",
    "id": "SMGA1GTlBqkE"
   },
   "source": [
    "Let's visually inspect the learned latent space representation obtained of each journal entry $x^{i}$:"
   ]
  },
  {
   "cell_type": "code",
   "execution_count": null,
   "metadata": {
    "colab": {
     "base_uri": "https://localhost:8080/",
     "height": 704
    },
    "colab_type": "code",
    "id": "K9P4oQaXBqkE",
    "outputId": "4b0193f0-ae75-4012-feb9-0ba15d9dad01"
   },
   "outputs": [],
   "source": [
    "# prepare plot\n",
    "fig = plt.figure(figsize=(12,12))\n",
    "ax = fig.add_subplot(111)\n",
    "\n",
    "# obtain regular transactions as well as global and local anomalies\n",
    "regular_data = z_enc_transactions_all[label == 'regular']\n",
    "global_outliers = z_enc_transactions_all[label == 'global']\n",
    "local_outliers = z_enc_transactions_all[label == 'local']\n",
    "\n",
    "# plot reconstruction error scatter plot\n",
    "ax.scatter(regular_data[:, 0], regular_data[:, 1], c='C0', marker=\"o\", label='regular', edgecolors='w', linewidth=0.5) # plot regular transactions\n",
    "ax.scatter(global_outliers[:, 0], global_outliers[:, 1], c='C1', marker=\"x\", label='global', edgecolors='w', s=60) # plot global outliers\n",
    "ax.scatter(local_outliers[:, 0], local_outliers[:, 1], c='C3', marker=\"x\", label='local', edgecolors='w', s=60) # plot local outliers\n",
    "\n",
    "# add plot legend of transaction classes\n",
    "ax.legend(loc='best');"
   ]
  },
  {
   "cell_type": "markdown",
   "metadata": {
    "colab_type": "text",
    "id": "uZ_v__AvBqkF"
   },
   "source": [
    "### 5.2 Determine Normalized Mode Divergence (MD) of Each Journal Entry"
   ]
  },
  {
   "cell_type": "markdown",
   "metadata": {
    "colab_type": "text",
    "id": "3wsz6oQ-BqkF"
   },
   "source": [
    "Journal entries that exhibit anomalous attribute values (global anomalies) result in an increased divergence from the imposed multi-modal prior, e.g., as in this work the divergence to the modes of an imposed mixture of multivariate isotropic Gaussians $\\mathcal{N}(\\mu,\\mathcal{I})$, where $\\mu \\in \\mathcal{R}^m$ defines the $\\tau$ modes of the distinct Gaussians denoted by $\\mu =\\{\\mu^1 \\ldots \\mu^\\tau \\}$. Throughout the AAE training, the entries will be \"pushed\" towards the high probability density regions of the prior by the regularization. In order to be able to discriminate between the imposed prior and the learned aggregated posterior the AAE aims to keep the majority of the entries within the high-density regions (modes) of the prior. In contrast, representations that correspond to rare or anomalous journal entries will tend to differ from the imposed modes and be placed in the priors low-density regions. We use this characteristic and obtain an entry's $x^{i}$ mode divergence $D$ as the Euclidean distance of the entry's learned representation $z^i$ to its closest mode $\\mu^\\tau$. Formally, we derive the mode divergence as denoted by $D_{\\theta^*}^{\\tau}(z^{i};\\mu) = \\min\\limits_{\\tau} \\lVert z^i-\\mu^\\tau \\rVert^2 $ under optimal model parameters $\\theta^*$. Finally, we calculate the normalized mode divergence $MD$ as expressed by:\n",
    "\n",
    "\\begin{equation}\n",
    "MD_{\\theta^*}^{\\tau}(x^{i}) = \\frac{D_{\\theta^*}^{\\tau}(z^i;\\mu) - D_{\\theta^*, min}^{\\tau}}{D_{\\theta^*, max}^{\\tau} - D_{\\theta^*, min}^{\\tau}},\n",
    "\\end{equation}\n",
    "\n",
    "where $D_{min}$ and $D_{max}$ denotes the min- and max-values of the obtained mode divergences given by $D_{\\theta^*}$ and closest mode $\\tau$."
   ]
  },
  {
   "cell_type": "code",
   "execution_count": null,
   "metadata": {
    "colab": {},
    "colab_type": "code",
    "id": "35iFX_etBqkF"
   },
   "outputs": [],
   "source": [
    "# define euclidean distance calculation\n",
    "def compute_euclid_distance(x, y):\n",
    "    \n",
    "    # calculate euclidean distance \n",
    "    euclidean_distance = np.sqrt(np.sum((x - y) ** 2, axis=1))\n",
    "    \n",
    "    # return euclidean distance\n",
    "    return euclidean_distance"
   ]
  },
  {
   "cell_type": "markdown",
   "metadata": {
    "colab_type": "text",
    "id": "gGx1sDrABqkF"
   },
   "source": [
    "Obtain the mode assignment and mode divergence of each journal entry $x^{i}$:"
   ]
  },
  {
   "cell_type": "code",
   "execution_count": null,
   "metadata": {
    "colab": {},
    "colab_type": "code",
    "id": "dd_LQqFsBqkG"
   },
   "outputs": [],
   "source": [
    "\n",
    "# determine distance to each mode\n",
    "distances = np.apply_along_axis(func1d=compute_euclid_distance, axis=1, arr=z_enc_transactions_all, y=mu_gauss)\n",
    "\n",
    "# determine mode divergence\n",
    "mode_divergence = np.min(distances, axis=1)\n",
    "\n",
    "# determine min-mode id\n",
    "cluster_ids = np.argmin(distances, axis=1)    "
   ]
  },
  {
   "cell_type": "markdown",
   "metadata": {
    "colab_type": "text",
    "id": "oxEPbeTfBqkG"
   },
   "source": [
    "Normalize the obtained mode divergenes $D_{\\theta^*}^{\\tau}$ of each mode $\\tau$:"
   ]
  },
  {
   "cell_type": "code",
   "execution_count": null,
   "metadata": {
    "colab": {},
    "colab_type": "code",
    "id": "oNOsg4lsBqkG"
   },
   "outputs": [],
   "source": [
    "# normalize the mode divergences of each mode\n",
    "\n",
    "# prepare empty arrays of the same shape and dtype\n",
    "mode_divergence_all_scaled = np.asarray(mode_divergence)\n",
    "\n",
    "# iterate over the cluster modes\n",
    "for cluster_id in np.unique(cluster_ids).tolist():\n",
    "  \n",
    "    # determine journal entries of current mode\n",
    "    mask = cluster_ids == cluster_id\n",
    "\n",
    "    # normalize mode journal entries mode divergence to the range [0,1]\n",
    "    mode_divergence_all_scaled[mask] = (mode_divergence[mask] - mode_divergence[mask].min()) / (mode_divergence[mask].ptp())   "
   ]
  },
  {
   "cell_type": "markdown",
   "metadata": {
    "colab_type": "text",
    "id": "XEisc853BqkH"
   },
   "source": [
    "Let's visually inspect the obtained mode divergence obtained of each journal entry $x^{i}$:"
   ]
  },
  {
   "cell_type": "code",
   "execution_count": null,
   "metadata": {
    "colab": {
     "base_uri": "https://localhost:8080/",
     "height": 666
    },
    "colab_type": "code",
    "id": "xNxfJuQTBqkH",
    "outputId": "92d04476-405b-412a-80e3-248e230a9148"
   },
   "outputs": [],
   "source": [
    "\n",
    "# collect anomaly score, labels and cluster assignments\n",
    "plot_data = pd.concat([pd.Series(mode_divergence_all_scaled, name='mode_divergence'), \n",
    "                       pd.Series(label, name='label'),                        \n",
    "                       pd.Series(cluster_ids, name='cluster_id')],\n",
    "                     axis=1)\n",
    "\n",
    "num_clusters = len(np.unique(cluster_ids))\n",
    "# init sub-plots based on the number of modes\n",
    "fig, axes = plt.subplots(1, num_clusters, sharey=True, figsize=(14, 10))\n",
    "\n",
    "\n",
    "# iterate over distinct modes\n",
    "for mode in range(0, num_clusters):\n",
    "\n",
    "    plot_data = plot_data.sample(frac=1.0)\n",
    "    # collect features of current mode\n",
    "    z_mode = plot_data[plot_data['cluster_id'] == mode]\n",
    "\n",
    "    regular_data = z_mode[z_mode['label'] == 'regular']\n",
    "    global_outliers = z_mode[z_mode['label'] == 'global']\n",
    "    local_outliers = z_mode[z_mode['label'] == 'local']\n",
    "\n",
    "    # create train scatter plot of regular samples\n",
    "    axes[mode].scatter(regular_data.index, regular_data['mode_divergence'],\n",
    "                       c='C0', marker='o', s=30, linewidth=0.3, label='regular', edgecolors='w')\n",
    "    \n",
    "    # create train scatter plot of global anomalies\n",
    "    axes[mode].scatter(global_outliers.index, global_outliers['mode_divergence'],\n",
    "                               c='C1', marker='x', s=120, linewidth=3, label='global', edgecolors='w')\n",
    "    # create train scatter plot of local anomalies\n",
    "    axes[mode].scatter(local_outliers.index, local_outliers['mode_divergence'],\n",
    "                               c='C3', marker='x', s=120, linewidth=3, label='local', edgecolors='w')\n",
    "\n",
    "    # set axis labels\n",
    "    xlabel = '$\\\\tau={}$' + str(mode+1) if mode == 0 else str(mode+1)\n",
    "    axes[mode].set_xlabel(xlabel, fontsize=24)\n",
    "\n",
    "    # set axis limits\n",
    "    axes[mode].set_ylim([0.0, 1.1])\n",
    "\n",
    "    axes[mode].set_xticks([int(plot_data.shape[0]/2)])\n",
    "    axes[mode].set_xticklabels(['$x_{i}$'])\n",
    "\n",
    "# set axis labels\n",
    "axes[0].set_ylabel('mode divergence $MD$', fontsize=20)\n",
    "\n",
    "# add legend to plot\n",
    "handles, labels = axes[2].get_legend_handles_labels()\n",
    "plt.legend(handles, labels, loc='center', fontsize=20, ncol=3, borderaxespad=0.,\n",
    "           bbox_to_anchor=(-6.5, 1., 9., .1))\n",
    "\n",
    "# set grid and tight plotting layout\n",
    "plt.grid(True)"
   ]
  },
  {
   "cell_type": "markdown",
   "metadata": {
    "colab_type": "text",
    "id": "h27jv8E9BqkH"
   },
   "source": [
    "### 5.3 Determine Normalized Reconstruction Error (RE) of Each Journal Entry"
   ]
  },
  {
   "cell_type": "markdown",
   "metadata": {
    "colab_type": "text",
    "id": "n89gRgosBqkH"
   },
   "source": [
    "Journal entries that exhibit anomalous attribute value co-occurrences (local anomalies) tend to result in an increased reconstruction error. This is caused by the compression capability of the AAE architecture. Anomalous and therefore unique attribute co-occurrences exhibit an increased probability of getting lost in the encoders \"lossy\" compression. As a result, their low dimensional representation will overlap with regular entries in the latent space and are not reconstructed correctly by the decoder. Formally, we obtain the reconstruction error $E$ of each entry $x^i$ and its reconstruction $\\hat{x}^i$ as the squared-difference denoted by $E_{\\theta^*}^{\\tau}(x^{i};\\hat{x}^{i}) = \\frac{1}{k} \\sum_{j=1}^{k}{(x^{i}_{j} - \\hat{x}^{i}_{j})}^2$ under optimal model parameters $\\theta^*$. Finally, we calculate the normalized reconstruction error $RE$ as expressed by:\n",
    "\n",
    "\\begin{equation}\n",
    "RE_{\\theta^*}^{\\tau}(x^{i};\\hat{x}^{i}) = \\frac{E_{\\theta^*}^{\\tau}(x^i;\\hat{x}^{i}) - E_{\\theta^*, min}^{\\tau}}{E_{\\theta^*, max}^{\\tau} - E_{\\theta^*, min}^{\\tau}},\n",
    "\\end{equation}\n",
    "\n",
    "where $E_{min}$ and $E_{max}$ denotes the min- and max-values of the obtained reconstruction errors given by $E_{\\theta^*}$ and closest mode $\\tau$. Let's obtain the reconstruction error of each journal entry $x^{i}$:\n"
   ]
  },
  {
   "cell_type": "code",
   "execution_count": null,
   "metadata": {
    "colab": {},
    "colab_type": "code",
    "id": "FsEtBljsBqkH"
   },
   "outputs": [],
   "source": [
    "# define the optimization criterion / loss function\n",
    "reconstruction_criterion_categorical_eval = nn.BCEWithLogitsLoss(reduction='none')\n",
    "reconstruction_criterion_numeric_eval = nn.MSELoss(reduction='none')\n",
    "\n",
    "# push to cuda if cudnn is available\n",
    "if (torch.backends.cudnn.version() != None and USE_CUDA == True):\n",
    "    reconstruction_criterion_categorical_eval = reconstruction_criterion_categorical_eval.cuda()\n",
    "    reconstruction_criterion_numeric_eval = reconstruction_criterion_numeric_eval.cuda()\n",
    "\n",
    "# set networks in evaluation mode (don't apply dropout)\n",
    "encoder_eval.eval()\n",
    "decoder_eval.eval()\n",
    "\n",
    "# init batch count\n",
    "batch_count = 0\n",
    "\n",
    "# iterate over epoch mini batches\n",
    "for enc_transactions_batch in dataloader_eval:\n",
    "\n",
    "    # determine latent space representation of all transactions\n",
    "    z_enc_transactions_batch = encoder_eval(enc_transactions_batch)\n",
    "\n",
    "    # reconstruct input samples\n",
    "    reconstruction_batch = decoder_eval(z_enc_transactions_batch)\n",
    "\n",
    "    # split input transactions into numeric and categorical parts\n",
    "    input_cat_all = enc_transactions_batch[:, :ori_dataset_categ_transformed.shape[1]]\n",
    "    input_num_all = enc_transactions_batch[:, ori_dataset_categ_transformed.shape[1]:]\n",
    "\n",
    "    # split reconstruction into numeric and categorical parts\n",
    "    rec_cat_all = reconstruction_batch[:, :ori_dataset_categ_transformed.shape[1]]\n",
    "    rec_num_all = reconstruction_batch[:, ori_dataset_categ_transformed.shape[1]:]\n",
    "\n",
    "    # compute rec error\n",
    "    rec_error_cat_all = reconstruction_criterion_categorical_eval(input=rec_cat_all, target=input_cat_all).mean(dim=1)\n",
    "    rec_error_num_all = reconstruction_criterion_numeric_eval(input=rec_num_all, target=input_num_all).mean(dim=1)\n",
    "\n",
    "    # combine categorical and numerical errors\n",
    "    rec_error_all_batch = rec_error_cat_all + rec_error_num_all\n",
    "    \n",
    "    # case: initial batch\n",
    "    if batch_count == 0:\n",
    "    \n",
    "      # collect reconstruction errors of batch\n",
    "      rec_error_all = rec_error_all_batch\n",
    "    \n",
    "    # case: non-initial batch\n",
    "    else:\n",
    "      \n",
    "      # collect reconstruction errors of batch\n",
    "      rec_error_all = torch.cat((rec_error_all, rec_error_all_batch), dim=0)\n",
    "    \n",
    "    # increase batch count\n",
    "    batch_count += 1\n",
    "\n",
    "# convert to numpy array\n",
    "rec_error_all = rec_error_all.cpu().detach().numpy()"
   ]
  },
  {
   "cell_type": "markdown",
   "metadata": {
    "colab_type": "text",
    "id": "dgGyJtnSBqkI"
   },
   "source": [
    "Normalize the obtained reconstruction errors $E_{\\theta^*}^{\\tau}$ of each mode $\\tau$:"
   ]
  },
  {
   "cell_type": "code",
   "execution_count": null,
   "metadata": {
    "colab": {},
    "colab_type": "code",
    "id": "G6OXNSRTBqkI"
   },
   "outputs": [],
   "source": [
    "# normalize the reconstruction errors of each mode\n",
    "\n",
    "# prepare empty arrays of the same shape and dtype\n",
    "rec_error_all_scaled = np.asarray(rec_error_all)\n",
    "\n",
    "# iterate over the cluster modes\n",
    "for cluster_id in np.unique(cluster_ids).tolist():\n",
    "  \n",
    "    # determine journal entries of current mode\n",
    "    mask = cluster_ids == cluster_id\n",
    "\n",
    "    # normalize mode journal entries reconstruction error to the range [0,1]\n",
    "    rec_error_all_scaled[mask] = (rec_error_all[mask] - rec_error_all[mask].min()) / (rec_error_all[mask].ptp())"
   ]
  },
  {
   "cell_type": "markdown",
   "metadata": {
    "colab_type": "text",
    "id": "2oxpMUtjBqkI"
   },
   "source": [
    "Let's visually inspect the reconstruction error obtained for each journal entry $x^{i}$:"
   ]
  },
  {
   "cell_type": "code",
   "execution_count": null,
   "metadata": {
    "colab": {
     "base_uri": "https://localhost:8080/",
     "height": 666
    },
    "colab_type": "code",
    "id": "v25TKzLEBqkI",
    "outputId": "2010716d-2fb6-433e-aafa-d8a438e8a10e"
   },
   "outputs": [],
   "source": [
    "\n",
    "# collect anomaly score, labels and cluster assignments\n",
    "plot_data = pd.concat([pd.Series(rec_error_all_scaled, name='rec_error'), \n",
    "                       pd.Series(label, name='label'),                        \n",
    "                       pd.Series(cluster_ids, name='cluster_id')],\n",
    "                     axis=1)\n",
    "\n",
    "num_clusters = len(np.unique(cluster_ids))\n",
    "# init sub-plots based on the number of modes\n",
    "fig, axes = plt.subplots(1, num_clusters, sharey=True, figsize=(14, 10))\n",
    "\n",
    "\n",
    "# iterate over distinct modes\n",
    "for mode in range(0, num_clusters):\n",
    "\n",
    "    plot_data = plot_data.sample(frac=1.0)\n",
    "    # collect features of current mode\n",
    "    z_mode = plot_data[plot_data['cluster_id'] == mode]\n",
    "\n",
    "    regular_data = z_mode[z_mode['label'] == 'regular']\n",
    "    global_outliers = z_mode[z_mode['label'] == 'global']\n",
    "    local_outliers = z_mode[z_mode['label'] == 'local']\n",
    "\n",
    "    # create train scatter plot of regular samples\n",
    "    axes[mode].scatter(regular_data.index, regular_data['rec_error'],\n",
    "                       c='C0', marker='o', s=30, linewidth=0.3, label='regular', edgecolors='w')\n",
    "    \n",
    "    # create train scatter plot of global anomalies\n",
    "    axes[mode].scatter(global_outliers.index, global_outliers['rec_error'],\n",
    "                               c='C1', marker='x', s=120, linewidth=3, label='global', edgecolors='w')\n",
    "    # create train scatter plot of local anomalies\n",
    "    axes[mode].scatter(local_outliers.index, local_outliers['rec_error'],\n",
    "                               c='C3', marker='x', s=120, linewidth=3, label='local', edgecolors='w')\n",
    "\n",
    "    # set axis labels\n",
    "    xlabel = '$\\\\tau={}$' + str(mode+1) if mode == 0 else str(mode+1)\n",
    "    axes[mode].set_xlabel(xlabel, fontsize=24)\n",
    "\n",
    "    # set axis limits\n",
    "    axes[mode].set_ylim([0.0, 1.1])\n",
    "\n",
    "    axes[mode].set_xticks([int(plot_data.shape[0]/2)])\n",
    "    axes[mode].set_xticklabels(['$x_{i}$'])\n",
    "\n",
    "# set axis labels\n",
    "axes[0].set_ylabel('reconstruction error $RE$', fontsize=20)\n",
    "\n",
    "# add legend to plot\n",
    "handles, labels = axes[2].get_legend_handles_labels()\n",
    "plt.legend(handles, labels, loc='center', fontsize=20, ncol=3, borderaxespad=0.,\n",
    "           bbox_to_anchor=(-6.5, 1., 9., .1))\n",
    "\n",
    "# set grid and tight plotting layout\n",
    "plt.grid(True)"
   ]
  },
  {
   "cell_type": "markdown",
   "metadata": {
    "colab_type": "text",
    "id": "FKOEWs9uBqkJ"
   },
   "source": [
    "### 5.3 Determine Anomaly Score $AS^{\\tau}$ of Each Journal Entry"
   ]
  },
  {
   "cell_type": "markdown",
   "metadata": {
    "colab_type": "text",
    "id": "-XzRvnHWBqkJ"
   },
   "source": [
    "Quantifying both characteristics for a given journal entry, we can reasonably conclude (1) if the entry is anomalous and (2) if it was created by a \"regular\" business activity. To detect global and local accounting anomalies in real-world audit scenarios we propose to score each journal entry $x^i$ by its normalized reconstruction error $RE$ regularized and normalized mode divergence $MD$ given by:\n",
    "\n",
    "\\begin{equation}\n",
    "AS^{\\tau}(x^{i};\\hat{x}^{i}) = \\alpha \\times RE_{\\theta^*}^{\\tau}(x^{i};\\hat{x}^{i}) + (1-\\alpha) \\times MD_{\\theta^*}^{\\tau}(x^{i}),\n",
    "\\end{equation} \n",
    "\n",
    "for each individual journal entry $x^{i}$ and optimal model parameters $\\theta^*$ and closest mode $\\tau$. We introduce $\\alpha$ as a factor to balance both characteristics."
   ]
  },
  {
   "cell_type": "code",
   "execution_count": null,
   "metadata": {
    "colab": {},
    "colab_type": "code",
    "id": "V-0DJy2SBqkJ"
   },
   "outputs": [],
   "source": [
    "# set alpha \n",
    "alpha = 0.4\n",
    "\n",
    "# determine journal entry anomaly score\n",
    "anomaly_score = alpha * rec_error_all_scaled + (1.0 - alpha) * mode_divergence_all_scaled"
   ]
  },
  {
   "cell_type": "markdown",
   "metadata": {
    "colab_type": "text",
    "id": "TlyJpQT9BqkL"
   },
   "source": [
    "### 5.4 Visual Inspection of the Obtained Anomaly Scores "
   ]
  },
  {
   "cell_type": "markdown",
   "metadata": {
    "colab_type": "text",
    "id": "pPhizQIFBqkL"
   },
   "source": [
    "Let's visually inspect the obtained anomaly scores obtained for each journal entry:"
   ]
  },
  {
   "cell_type": "code",
   "execution_count": null,
   "metadata": {
    "colab": {
     "base_uri": "https://localhost:8080/",
     "height": 666
    },
    "colab_type": "code",
    "id": "QwFmh4f1BqkL",
    "outputId": "f9085ecb-de33-41cd-9c67-adf16bd0da58"
   },
   "outputs": [],
   "source": [
    "\n",
    "# collect anomaly score, labels and cluster assignments\n",
    "plot_data = pd.concat([pd.Series(anomaly_score, name='anomaly_score'), \n",
    "                       pd.Series(label, name='label'),                        \n",
    "                       pd.Series(cluster_ids, name='cluster_id')],\n",
    "                     axis=1)\n",
    "\n",
    "num_clusters = len(np.unique(cluster_ids))\n",
    "# init sub-plots based on the number of modes\n",
    "fig, axes = plt.subplots(1, num_clusters, sharey=True, figsize=(14, 10))\n",
    "\n",
    "# iterate over distinct modes\n",
    "for mode in range(0, num_clusters):\n",
    "\n",
    "    plot_data = plot_data.sample(frac=1.0)\n",
    "    # collect features of current mode\n",
    "    z_mode = plot_data[plot_data['cluster_id'] == mode]\n",
    "\n",
    "    regular_data = z_mode[z_mode['label'] == 'regular']\n",
    "    global_outliers = z_mode[z_mode['label'] == 'global']\n",
    "    local_outliers = z_mode[z_mode['label'] == 'local']\n",
    "\n",
    "    # create train scatter plot of regular samples\n",
    "    axes[mode].scatter(regular_data.index, regular_data['anomaly_score'],\n",
    "                       c='C0', marker='o', s=30, linewidth=0.3, label='regular', edgecolors='w')\n",
    "    \n",
    "    # create train scatter plot of global anomalies\n",
    "    axes[mode].scatter(global_outliers.index, global_outliers['anomaly_score'],\n",
    "                               c='C1', marker='x', s=120, linewidth=3, label='global', edgecolors='w')\n",
    "    # create train scatter plot of local anomalies\n",
    "    axes[mode].scatter(local_outliers.index, local_outliers['anomaly_score'],\n",
    "                               c='C3', marker='x', s=120, linewidth=3, label='local', edgecolors='w')\n",
    "\n",
    "    # set axis labels\n",
    "    xlabel = '$\\\\tau={}$' + str(mode+1) if mode == 0 else str(mode+1)\n",
    "    axes[mode].set_xlabel(xlabel, fontsize=24)\n",
    "\n",
    "    # set axis limits\n",
    "    axes[mode].set_ylim([0.0, 1.1])\n",
    "\n",
    "    axes[mode].set_xticks([int(plot_data.shape[0]/2)])\n",
    "    axes[mode].set_xticklabels(['$x_{i}$'])\n",
    "\n",
    "# set axis labels\n",
    "axes[0].set_ylabel('anomaly score $AS$', fontsize=20)\n",
    "\n",
    "# add legend to plot\n",
    "handles, labels = axes[2].get_legend_handles_labels()\n",
    "plt.legend(handles, labels, loc='center', fontsize=20, ncol=3, borderaxespad=0.,\n",
    "           bbox_to_anchor=(-6.5, 1., 9., .1))\n",
    "\n",
    "# set grid and tight plotting layout\n",
    "plt.grid(True)"
   ]
  },
  {
   "cell_type": "markdown",
   "metadata": {
    "colab_type": "text",
    "id": "WYqRpiYnBqkL"
   },
   "source": [
    "The visualization reveals that the pre-trained model is able to reconstruct the majority of regular journal entries, while failing to do so, for the anomalous ones. As a result, the model reconstruction error can be used to distinguish both \"global\" anomalies (orange) and \"local\" anomalies (green) from the regular journal entries (blue).\n",
    "\n",
    "To further investigate our observation and confirm the initial assumption, let's have a closer look into the journal entries exhibiting an anomaly score >= 0.25 selected from the cluster mode $\\tau=3$. We assume that these journal entries correspond to the \"global\" anomalies of the original dataset:"
   ]
  },
  {
   "cell_type": "code",
   "execution_count": null,
   "metadata": {
    "colab": {
     "base_uri": "https://localhost:8080/",
     "height": 1000
    },
    "colab_type": "code",
    "id": "2TpJytaRBqkL",
    "outputId": "16fe9b35-dae6-4e08-9533-ce1e6fbf8cb1"
   },
   "outputs": [],
   "source": [
    "ori_dataset['label'] = label\n",
    "ori_dataset['tau'] = cluster_ids\n",
    "\n",
    "# inspect transactions exhibiting a reconstruction error >= 0.2\n",
    "ori_dataset[(anomaly_score >= 0.25) & (cluster_ids == 2)]"
   ]
  },
  {
   "cell_type": "markdown",
   "metadata": {
    "colab_type": "text",
    "id": "Cj7GovE_BqkM"
   },
   "source": [
    "Let's now also have a closer look into the journal entries exhibiting anomaly score >= 0.4 selected from the cluster mode $\\tau=2$. We assume that these journal entries mostly correspond to the \"local\" anomalies of the original dataset:"
   ]
  },
  {
   "cell_type": "code",
   "execution_count": null,
   "metadata": {
    "colab": {
     "base_uri": "https://localhost:8080/",
     "height": 793
    },
    "colab_type": "code",
    "id": "dmKQmznCBqkM",
    "outputId": "baa2f46a-65b7-44eb-f044-0aa5debd0663"
   },
   "outputs": [],
   "source": [
    "# inspect transactions exhibiting a anomaly_score >= 0.4 from the mode 2\n",
    "ori_dataset[(anomaly_score >= 0.4) & (cluster_ids == 1)]"
   ]
  },
  {
   "cell_type": "code",
   "execution_count": null,
   "metadata": {
    "colab": {
     "base_uri": "https://localhost:8080/",
     "height": 1000
    },
    "colab_type": "code",
    "id": "h9s5Awk7BqkM",
    "outputId": "5173ae1e-19c1-4669-b388-58f2fc66293d"
   },
   "outputs": [],
   "source": [
    "!jupyter nbconvert --to script KDD_2019.ipynb"
   ]
  },
  {
   "cell_type": "markdown",
   "metadata": {
    "colab_type": "text",
    "id": "hM4jR_zqBqkN"
   },
   "source": [
    "## References"
   ]
  },
  {
   "cell_type": "markdown",
   "metadata": {
    "colab_type": "text",
    "id": "TDT_fIjMBqkN"
   },
   "source": [
    "Major elements of the lab content are inspired by the publication \"Detection of Anomalies in Large Scale Accounting Data using Deep Autoencoder Networks\", of M. Schreyer, T. Sattarov, D. S. Borth, A. Dengel, and B. Reimer, 2017 (arXiv preprint available under: https://arxiv.org/abs/1709.05254).\n",
    "\n",
    "[1] ACFE, \"Report to the Nations on Occupational Fraud and Abuse\", The 2016 Global Fraud Study, Association of Certified Fraud Examiners (ACFE), 2016.\n",
    "\n",
    "[2] J. T. Wells, \"Corporate Fraud Handbook: Prevention and Detection\", John Wiley & Sons, 2017.\n",
    "\n",
    "[3] PwC, \"Pulling Fraud Out of the Shadows\", The Global Economic Crime and Fraud Survey 2018, PricewaterhouseCoopers LLP, 2018.\n",
    "\n",
    "[4] S. Markovitch, P. Willmott, \"Accelerating the digitization of business processes\", McKinsey & Company (2014) 1–5.\n",
    "\n",
    "[5] SAP, SAP Global Corporate Affairs, Corporate Factsheet 2017, 2017.\n",
    "\n",
    "[6] E. A. Lopez-Rojas , A. Elmir, and S. Axelsson, \"PaySim: A financial mobile money simulator for fraud detection\", In: The 28th European Modeling and Simulation Symposium-EMSS, Larnaca, Cyprus, 2016.\n",
    "\n",
    "[7] G. E. Hinton, and R. R. Salakhutdinov, \"Reducing the dimensionality of data with neural networks\", science 313, no. 5786: 504-507, 2006.\n",
    "\n",
    "[8] N. Srivastava, G. E. Hinton, A. Krizhevsky, I. Sutskever, and R. Salakhutdinov, \"Dropout: A simple way to prevent neural networks from overfitting\", The Journal of Machine Learning Research, 15(1), 1929-1958, 2014.\n",
    "\n",
    "[9] X. Glorot and Y. Bengio, \"Understanding the difficulty of training deep feedforward neural networks\", Proceedings of the 13th International Conference on Artificial Intelligence and Statistics (AISTATS), 9:249–256, 2010.\n",
    "\n",
    "[10] B. Xu, N. Wang, T. Chen, and M. Li, \"Empirical Evaluation of Rectified Activations in Convolution Network\", ICML Deep Learning Workshop, pages 1–5, 2015.\n",
    "\n",
    "[11] D. P. Kingma and J. Ba, \"Adam: A method for stochastic optimization\", International Conference on Learning Representations (ICLR). 2015.\n",
    "\n",
    "[12] G. E. Hinton, N. Srivastava, A. Krizhevsky, I. Sutskever, R. R. Salakhutdinov. \"Improving neural networks by preventing co-adaptation of feature detectors\", Technical Report, 2012.\n",
    "\n",
    "[13] D. P. Kingma, M. Welling. \"Auto-encoding variational bayes\", arXiv preprint arXiv:1312.6114, 2013.\n",
    "\n",
    "[14] Makhzani, A., Shlens, J., Jaitly, N., Goodfellow, I., & Frey, B., \"Adversarial autoencoders\", arXiv preprint arXiv:1511.05644, 2015.\n"
   ]
  }
 ],
 "metadata": {
  "accelerator": "GPU",
  "colab": {
   "name": "colab_06.ipynb",
   "provenance": [],
   "toc_visible": true,
   "version": "0.3.2"
  },
  "kernelspec": {
   "display_name": "Python 3 (ipykernel)",
   "language": "python",
   "name": "python3"
  },
  "language_info": {
   "codemirror_mode": {
    "name": "ipython",
    "version": 3
   },
   "file_extension": ".py",
   "mimetype": "text/x-python",
   "name": "python",
   "nbconvert_exporter": "python",
   "pygments_lexer": "ipython3",
   "version": "3.10.6"
  },
  "toc": {
   "base_numbering": 1,
   "nav_menu": {},
   "number_sections": false,
   "sideBar": true,
   "skip_h1_title": false,
   "title_cell": "Table of Contents",
   "title_sidebar": "Contents",
   "toc_cell": false,
   "toc_position": {},
   "toc_section_display": true,
   "toc_window_display": false
  }
 },
 "nbformat": 4,
 "nbformat_minor": 2
}
