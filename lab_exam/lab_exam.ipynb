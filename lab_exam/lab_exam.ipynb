{
 "cells": [
  {
   "cell_type": "markdown",
   "metadata": {
    "colab_type": "text",
    "id": "eGwNwDKEt8lG"
   },
   "source": [
    "<img align=\"right\" style=\"max-width: 200px; height: auto\" src=\"./fs_logo.png\">\n",
    "\n",
    "##  CADS Praxisphase - Fallsstudie: Audit Sampling\n",
    "\n",
    "Modul Künstliche Intelligenz, Frankfurt School, 2024/25"
   ]
  },
  {
   "cell_type": "markdown",
   "metadata": {},
   "source": [
    "Die Analysen des Seminars **Künstliche Intelligenz** des Zertifikatstudiengangs **Certified Audit Data Scientist (CADS)** basieren auf Jupyter Notebook. Anhand solcher Notebooks ist es möglich eine Vielzahl von Datenanalysen und statistischen Validierungen durchzuführen."
   ]
  },
  {
   "cell_type": "markdown",
   "metadata": {},
   "source": [
    "<img align=\"center\" style=\"max-width: 700px\" src=\"./lab_exam_banner.png\">"
   ]
  },
  {
   "cell_type": "markdown",
   "metadata": {
    "colab_type": "text",
    "id": "D0Jnx-Ljt8lK"
   },
   "source": [
    "## Hinführung"
   ]
  },
  {
   "attachments": {},
   "cell_type": "markdown",
   "metadata": {},
   "source": [
    "Eine grundlegende Zielsetzung des prüferischen Vorgehens besteht darin, möglichst effizient hinreichende Prüfungssicherheit über ein Prüffeld durch geeignete Prüfnachweise zu erlangen. Im Rahmen der Durchführung von Einzelfall- und Funktionsprüfungen können Prüfer:innen deshalb Stichprobenverfahren einsetzen (vgl. IDW PS 530). Formal ist die Stichprobenprüfung definiert als die Auswahl und Evaluation von weniger als 100 Prozent der prüfungsrelevanten Grundgesamtheit (IDW PS 530.5a).\n",
    "\n",
    "Eine Stichprobenprüfung birgt jedoch zugleich ein sogenanntes **Stichprobenrisiko**. Dieses Risiko bezeichnet die Wahrscheinlichkeit, *\"dass die stichprobenbasierte Schlussfolgerung des Abschlussprüfers von der Schlussfolgerung abweicht, wenn die vollständige Grundgesamtheit Gegenstand derselben Prüfungshandlung wäre\"* (IDW PS 530.5c).\n",
    "\n",
    "Um ein solches Risiko zu minimieren, sind Prüfer:innen angehalten, eine **repräsentative Stichprobenauswahl** zu treffen. Hierzu ist es notwendig, die Merkmale der zu prüfenden Datengrundgesamtheit vorab einzuschätzen - beispielsweise im Hinblick auf Homogenität und strukturelle Ausprägungen. Vor dem Hintergrund der Prüfung umfangreicher Datenbestände stellt eine solche Einschätzung oftmals eine Herausforderung dar. Dies gilt insbesondere für Erstprüfungen, in denen Prüfer:innen häufig mit der repräsentativen Stichprobenauswahl aus einer Grundgesamtheit unbekannter Daten konfrontiert sind.\n",
    "\n",
    "Um dieser Herausforderung zu begegnen, soll anhand dieser Fallstudie ein durch Künstliche Intelligenz unterstütztes Verfahren entwickelt und evaluiert werden, das es ermöglicht, repräsentative Stichproben aus umfangreichen Transaktionsdaten zu ziehen."
   ]
  },
  {
   "cell_type": "markdown",
   "metadata": {},
   "source": [
    "## Ausgangslage"
   ]
  },
  {
   "attachments": {},
   "cell_type": "markdown",
   "metadata": {},
   "source": [
    "Die Stadt Philadelphia ist gemessen an der Anzahl ihrer Einwohner:innen die sechstgrößte Stadt in den USA. Für das letzte Jahr 2016/2017 (FY 2017) umfasste der städtische Haushalt ca. 250 Tsd. Kreditorische Zahlungen mit einem Gesamtvolumen in Höhe von ca. 4,2 Mrd. USD. In den vergangenen Jahren wurden vermehrt Schwächen innerhalb des internen Kontrollsystems (IKS) festgestellt, die zu fehlerhaften Zahlungsprozessen führten. Die unsachgemäße Abwicklung solcher Zahlungen in fast 60 städtischen Ämtern, Abteilungen, Gremien und Kommissionen birgt für die Stadt ein signifikantes Risiko."
   ]
  },
  {
   "cell_type": "markdown",
   "metadata": {},
   "source": [
    "<img align=\"center\" style=\"max-height: 100px\" src=\"./philadelphia_logo.png\">"
   ]
  },
  {
   "attachments": {},
   "cell_type": "markdown",
   "metadata": {},
   "source": [
    "Zugleich sah sich die Stadtverwaltung im Laufe des Jahres mit diversen Berichten der lokalen Presse zu Unregelmäßigkeiten in der Zahlungsabwicklung konfrontiert. Medienberichte haben dabei wiederholt auf systematische Mängel hingewiesen, was das Vertrauen der Bürger:innen in die Verwaltung beeinträchtigt. Aufgrund dieser Sachlage beschloss das städtische Audit Committee unter anderem, den Prüfungsschwerpunkt „Kreditorische Zahlungen“ im bevorstehenden Audit-Zyklus zu setzen."
   ]
  },
  {
   "attachments": {},
   "cell_type": "markdown",
   "metadata": {},
   "source": [
    "Du bist Fachspezialist:in für revisorische Datenanalysen und zugleich neues Teammitglied des Internal Audit Teams der Stadt Philadelphia. Aufgrund Deiner Fähigkeiten wurdest Du angefragt, eine repräsentative Stichprobe aus den kreditorischen Zahlungsbuchungen der Stadt auszuwählen. Die von Dir ausgewählte Stichprobe dient Deinen Kolleg:innen im Internal Audit als Ausgangspunkt für die durchzuführenden Detailprüfungen."
   ]
  },
  {
   "attachments": {},
   "cell_type": "markdown",
   "metadata": {},
   "source": [
    "Vor dem Hintergrund des limitierten städtischen Prüfbudgets möchte das Audit Committee die für die Detailprüfungen notwendigen Ressourcen jedoch nicht unmittelbar freizugeben. Von Dir wird erwartet, dass Du in Deiner Präsentation aufzeigst, wie die Anwendung moderner Datenanalysemethoden Ausgangspunkt einer effizienten Detailprüfung sein kann. Du bist deshalb angehalten, Deine Vorgehensweise sowie die getroffene Stichprobenauswahl dem Audit Committee zunächst verständlich und zugleich überzeugend zu präsentieren."
   ]
  },
  {
   "cell_type": "markdown",
   "metadata": {
    "colab_type": "text",
    "id": "CZaa0qAnt8lY"
   },
   "source": [
    "## Aufgabenstellung"
   ]
  },
  {
   "attachments": {},
   "cell_type": "markdown",
   "metadata": {
    "colab_type": "text",
    "id": "2yTCqemyt8la"
   },
   "source": [
    "Als Fachspezialist:in für revisorische Datenanalysen ist es Deine Aufgabe, eine repräsentative Stichprobe der Zahlungsbuchungen auszuwählen und diese dem Audit Committee zu präsentieren. Da das Audit Committee sowie Deine Kolleg:innen aktuell noch über wenig Expertise im Bereich revisorischer Datenanalysen verfügen, sind sie sehr an Deiner methodischen Vorgehensweise und den erzielten Ergebnissen interessiert."
   ]
  },
  {
   "attachments": {},
   "cell_type": "markdown",
   "metadata": {},
   "source": [
    "### Teilaufgabe 1: Aufbereitung der Zahlungsattribute\n",
    "\n",
    "- Lade über den Downloadlink (siehe oben) die Zahlungsdaten der Stadt Philadelphia für das FY 2017 in eine Jupyter Notebook-Analyseumgebung.\n",
    "- Verifiziere die Vollständigkeit der erhaltenen Zahlungsdaten, d. h. überprüfe die Anzahl der Datensätze (Zeilen) und Attribute (Spalten).\n",
    "- Triff unter Berücksichtigung der Ausprägungen bzw. Semantiken der Attribute eine geeignete Auswahl von Attributen für die zu erstellende Stichprobe.\n",
    "- Bereite die ausgewählten Attribute für die Anwendung eines maschinellen Lernverfahrens auf, z. B. durch One-Hot-Encoding (vgl. Lab 05, Abschnitt 2)."
   ]
  },
  {
   "cell_type": "code",
   "execution_count": null,
   "metadata": {
    "colab": {
     "base_uri": "https://localhost:8080/",
     "height": 70
    },
    "colab_type": "code",
    "id": "o3ShseCwt8lb",
    "outputId": "1254c7ff-5876-4508-8fde-5528e4d704f3"
   },
   "outputs": [],
   "source": [
    "# ***************************************************\n",
    "# INSERT YOUR SOLUTION/CODE HERE\n",
    "# ***************************************************"
   ]
  },
  {
   "attachments": {},
   "cell_type": "markdown",
   "metadata": {},
   "source": [
    "### Teilaufgabe 2: Dimensionsreduktion der Zahlungsdaten\n",
    "\n",
    "- Reduziere die Dimensionalität der Zahlungsdaten in einen zweidimensionalen Raum unter Verwendung eines Autoencoder-Netzes (vgl. Lab 07).\n",
    "- [Alternativ]: Reduziere die Dimensionalität anhand einer Principal Component Analyse in einen zweidimensionalen Raum (siehe Scikit-Learn Doku).\n",
    "- Visualisiere das Ergebnis der Dimensionsreduktion anhand geeigneter und aussagekräftiger Darstellungen (siehe Matplotlib, Seaborn oder Plotly Doku)."
   ]
  },
  {
   "cell_type": "code",
   "execution_count": null,
   "metadata": {},
   "outputs": [],
   "source": [
    "# ***************************************************\n",
    "# INSERT YOUR SOLUTION/CODE HERE\n",
    "# ***************************************************"
   ]
  },
  {
   "attachments": {},
   "cell_type": "markdown",
   "metadata": {},
   "source": [
    "### Teilaufgabe 3: Clustering der Repräsentationen\n",
    "\n",
    "- Clustere die erhaltenen Datenpunkte im zweidimensionalen Raum unter Verwendung des k-Means Clustering-Verfahrens (vgl. Lab 03, Abschnitt 3).\n",
    "- Optimiere die Clusteranzahl des k-Means Clustering-Verfahrens anhand des „Elbow“-Verfahrens (vgl. Lab 03, Abschnitt 5).\n",
    "- Visualisiere das Ergebnis des optimierten Clusterings anhand geeigneter und aussagekräftiger Darstellungen (siehe Matplotlib, Seaborn oder Plotly Doku)."
   ]
  },
  {
   "cell_type": "code",
   "execution_count": null,
   "metadata": {},
   "outputs": [],
   "source": [
    "## ***************************************************\n",
    "# INSERT YOUR SOLUTION/CODE HERE\n",
    "# ***************************************************"
   ]
  },
  {
   "attachments": {},
   "cell_type": "markdown",
   "metadata": {},
   "source": [
    "### Teilaufgabe 4: Auswahl der Repräsentativen Stichprobe\n",
    "\n",
    "- Treffe auf Grundlage des Clustering-Ergebnisses eine repräsentative Stichprobenauswahl der städtischen Zahlungsdaten.\n",
    "- Erstelle eine priorisierte Liste der ausgewählten Stichproben für die zielgerichtete Abarbeitung bzw. Prüfung durch das Prüfungsteam.\n",
    "- Berücksichtige im Rahmen der Stichprobenauswahl auch mögliche Zahlungsanomalien bzw. ungewöhnliche Zahlungen."
   ]
  },
  {
   "cell_type": "code",
   "execution_count": null,
   "metadata": {},
   "outputs": [],
   "source": [
    "# ***************************************************\n",
    "# INSERT YOUR SOLUTION/CODE HERE\n",
    "# ***************************************************"
   ]
  },
  {
   "attachments": {},
   "cell_type": "markdown",
   "metadata": {},
   "source": [
    "### Teilaufgabe 5: Präsentation der Ergebnisse und Arbeitspapiere\n",
    "\n",
    "- Erstelle eine aussagekräftige Präsentation (max. 8 Folien) für das Audit Committee bzw. die Stadtverwaltung der Stadt Philadelphia.\n",
    "- Erläutere die analytische Vorgehensweise und die ggf. getroffenen Annahmen zur Auswahl der repräsentativen Stichprobe.\n",
    "- Erläutere die Analyseergebnisse, die Stichprobenauswahl, gefundene Anomalien sowie etwaige Limitierungen des Analysevorgehens."
   ]
  },
  {
   "cell_type": "code",
   "execution_count": null,
   "metadata": {
    "colab": {},
    "colab_type": "code",
    "id": "NzE1FzaSt8lu"
   },
   "outputs": [],
   "source": [
    "# ***************************************************\n",
    "# INSERT YOUR SOLUTION/CODE HERE\n",
    "# ***************************************************"
   ]
  },
  {
   "cell_type": "markdown",
   "metadata": {
    "colab_type": "text",
    "id": "n94u0rxat8su"
   },
   "source": [
    "## Arbeitspapiere & Abgabe"
   ]
  },
  {
   "attachments": {},
   "cell_type": "markdown",
   "metadata": {
    "colab_type": "text",
    "id": "DCOEZj-it8sv"
   },
   "source": [
    "Zur abschließenden Bewertung Deiner praktischen Arbeit ist es von zentraler Bedeutung, dass Du Deine Ergebnisse strukturiert und nachvollziehbar darstellst. Nachfolgend findest Du zudem weitere Informationen zu den beiden einzureichenden Arbeitspapieren:\n",
    "\n",
    "- **Abgabezeitpunkt:** 06.04.2025 um 23:59 CET.\n",
    "- **Artefakt 1:** Ausführbarer und dokumentierter Quellcode, beispielsweise in Form eines Jupyter Notebooks, Python- oder R-Skripten.\n",
    "- **Artefakt 2:** Ausgearbeitete und vollständige Präsentation im Entwurfsstadium, beispielsweise als MS PowerPoint-, Open Office- oder PDF-Datei.\n",
    "- **Abgabe:** Lade beide Artefakte über die Lernplattform der Frankfurt School hoch (Link wird bekannt gegeben)."
   ]
  },
  {
   "cell_type": "markdown",
   "metadata": {},
   "source": [
    "## Empfohlene Hilfsmittel"
   ]
  },
  {
   "attachments": {},
   "cell_type": "markdown",
   "metadata": {},
   "source": [
    "Für die Fallstudienbearbeitung stehen Dir u.a. nachfolgende Ressourcen zur Verfügung:\n",
    "\n",
    "- Seminarunterlagen vom 13.12.2025 (https://campus.frankfurt-school.de)\n",
    "- Jupyter Notebooks des Seminars (https://github.com/GitiHubi/CADS)\n",
    "- Google Colab (https://colab.research.google.com)\n",
    "- Stackoverflow (https://stackoverflow.com)\n",
    "- Scikit-Learn Dokumentation (https://scikit-learn.org/stable/index.html)\n",
    "- PyTorch Dokumentation (https://pytorch.org/docs/stable/index.html)\n",
    "- LLMs wie z.B. ChatGPT (https://chat.openai.com)"
   ]
  },
  {
   "attachments": {},
   "cell_type": "markdown",
   "metadata": {},
   "source": [
    "Gerne kannst Du zur Bearbeitung der obigen Fallstudie eine Analyseumgebung bzw. Programmiersprache eurer Wahl verwenden (z. B. R, Julia etc.). Es ist nicht erforderlich, ausschließlich die im Rahmen des Kurses vorgestellten Analysewerkzeuge anzuwenden.\n",
    "\n",
    "Solltest Du Rückfragen haben, melde Dich gerne über das Forum der Lernplattform der Frankfurt School. Zögere auch nicht, auch eure Kommilitoninnen und Kommilitonen bei Fragen über das Forum zu Rate zu ziehen - Data Science ist schliesslich Teamsport.\n",
    "\n",
    "Wir wünschen Dir viel Erfolg und Happy Learning!"
   ]
  }
 ],
 "metadata": {
  "colab": {
   "collapsed_sections": [
    "eGwNwDKEt8lG",
    "D0Jnx-Ljt8lK",
    "CZaa0qAnt8lY",
    "mMSfpCPvt8l4",
    "n94u0rxat8su"
   ],
   "name": "lab_02.ipynb",
   "provenance": [],
   "toc_visible": true
  },
  "kernelspec": {
   "display_name": "Python 3 (ipykernel)",
   "language": "python",
   "name": "python3"
  },
  "language_info": {
   "codemirror_mode": {
    "name": "ipython",
    "version": 3
   },
   "file_extension": ".py",
   "mimetype": "text/x-python",
   "name": "python",
   "nbconvert_exporter": "python",
   "pygments_lexer": "ipython3",
   "version": "3.9.6"
  },
  "toc": {
   "base_numbering": 1,
   "nav_menu": {},
   "number_sections": false,
   "sideBar": true,
   "skip_h1_title": false,
   "title_cell": "Table of Contents",
   "title_sidebar": "Contents",
   "toc_cell": false,
   "toc_position": {
    "height": "calc(100% - 180px)",
    "left": "10px",
    "top": "150px",
    "width": "289px"
   },
   "toc_section_display": true,
   "toc_window_display": true
  }
 },
 "nbformat": 4,
 "nbformat_minor": 4
}
