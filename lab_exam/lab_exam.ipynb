{
 "cells": [
  {
   "cell_type": "markdown",
   "metadata": {
    "colab_type": "text",
    "id": "eGwNwDKEt8lG"
   },
   "source": [
    "<img align=\"right\" style=\"max-width: 200px; height: auto\" src=\"./fs_logo.png\">\n",
    "\n",
    "##  CADS Praxisphase - Fallsstudie: Audit Sampling\n",
    "\n",
    "Seminar Künstliche Intelligenz, Frankfurt School, 2022/23"
   ]
  },
  {
   "cell_type": "markdown",
   "metadata": {},
   "source": [
    "Die Analysen des Seminars **Künstliche Intelligenz** des Zertifikatstudiengangs **Certified Audit Data Scientist (CADS)** basieren auf Jupyter Notebook. Anhand solcher Notebooks ist es möglich eine Vielzahl von Datenanalysen und statistischen Validierungen durchzuführen."
   ]
  },
  {
   "cell_type": "markdown",
   "metadata": {},
   "source": [
    "<img align=\"center\" style=\"max-width: 700px\" src=\"./lab_exam_banner.png\">"
   ]
  },
  {
   "cell_type": "markdown",
   "metadata": {
    "colab_type": "text",
    "id": "D0Jnx-Ljt8lK"
   },
   "source": [
    "## Hinführung"
   ]
  },
  {
   "cell_type": "markdown",
   "metadata": {},
   "source": [
    "Eine grundlegende Zielsetzung des prüferischen Vorgehens besteht darin, möglichst effizient hinreichende Prüfungssicherheit über ein Prüffeld durch geeignete Prüfnachweise zu erlangen. Im Rahmen der Durchführung von Einzelfall- und Funktionsprüfungen können Prüfer:innen deshalb Stichprobenverfahren einsetzen (vgl. PS 530). Formal ist die Stichprobenprüfung definiert, als die **Auswahl und Evaluation von weniger als 100 Prozent der prüfungsrelevanten Grundgesamtheit** (vgl. ISA 530). "
   ]
  },
  {
   "cell_type": "markdown",
   "metadata": {},
   "source": [
    "Eine Stichprobenprüfung birgt jedoch zugleich ein sog. Stichprobenrisiko. Dieses Risiko bezeichnet die Wahrscheinlichkeit, *«dass die stichprobenbasierte Schlussfolgerung des Abschlussprüfers von der Schlussfolgerung abweicht, wenn die vollständige Grundgesamtheit Gegenstand derselben Prüfungshandlung wäre» (ISA 530)*."
   ]
  },
  {
   "cell_type": "markdown",
   "metadata": {},
   "source": [
    "Um ein solches Stichprobenrisiko zu reduzieren sind Prüfer:innen deshalb angehalten eine **repräsentative Stichprobenauswahl** zu treffen. Hierzu ist es notwendig, die Merkmale einer zu prüfenden Datengrundgesamtheit vorab einzuschätzen, z.B. im Hinblick auf Homogenität und strukturelle Ausprägungen. Vor dem Hintergrund der Prüfung umfangreicher Datenbestände, stellt eine solche Einschätzung oftmals eine Herausforderung dar. Dies gilt bswp. für Erstprüfungen, in welchen Prüfer:innen oftmals mit der repräsentativen Stichprobenauswahl aus einer Grundgesamtheit unbekannter Daten konfrontiert sind."
   ]
  },
  {
   "cell_type": "markdown",
   "metadata": {},
   "source": [
    "Um dieser Herausforderung zu begegnen, soll anhand dieser Fallstudie ein Künstliche Intelligenz (KI) unterstütztes Verfahren entwickelt und evaluiert werden, welches ermöglicht, repräsentative Stichproben aus umfangreichen Transaktionsdaten zu ziehen. "
   ]
  },
  {
   "cell_type": "markdown",
   "metadata": {},
   "source": [
    "## Ausgangslage"
   ]
  },
  {
   "cell_type": "markdown",
   "metadata": {},
   "source": [
    "Die Stadt Philadelphia ist gemessen anhand der Anzahl ihrer Einwohner:innen die sechst grösste Stadt in den USA. Für das letzte Jahr 2016/2017 (FY 2017) umfasste der städtische Haushalt ca. 250 Tsd. kreditorische Zahlungen mit einem Gesamtvolumen i.H.v. ca. 4,2 Mrd. USD. Die unsachgemässe Abwicklung solcher Zahlungen der fast 60 städtischen Ämter, Abteilungen, Gremien und Kommissionen birgt für die Stadt ein signifikantes Finanz- und Reputationsrisiko. "
   ]
  },
  {
   "cell_type": "markdown",
   "metadata": {},
   "source": [
    "<img align=\"center\" style=\"max-height: 100px\" src=\"./philadelphia_logo.png\">"
   ]
  },
  {
   "cell_type": "markdown",
   "metadata": {},
   "source": [
    "Zugleich sah sich die Stadtverwaltung im Laufe des Jahres mit diversen Berichten der lokalen Presse zu Unregelmässigkeiten die kreditorische Zahlungsabwicklung betreffend konfrontiert. Darüber erhielt das städtische Audit Committee vor einer Woche ein anonymes Schreiben, welches den Managing Director der Stadtverwaltung der Vorteilsnahme beschuldigt. Aufgrund dieser Sachlage beschloss das städtische Audit Committee u.a. den **Prüfungsschwerpunkt «Kreditorische Zahlungen»** im bevorstehenden Audit Zyklus zu prüfen. "
   ]
  },
  {
   "cell_type": "markdown",
   "metadata": {},
   "source": [
    "Du bist Fachspezialist:in für revisorische Datenanalysen und zugleich neues Teammitglied des Internal Audit Teams der Stadt Philadelphia. Aufgrund Deiner Fähigkeiten wurdest Du angefragt, eine repräsentative Stichprobe aus den kreditorischen Zahlungsbuchungen der **Abteilung «Managing Director» (Department: 10)** auszuwählen. Die von Dir ausgewählte Stichprobe dient Deinen Internal Audit Kolleg:innen als Ausgangspunkt für Ihre nachgelagert  durchzuführenden Detailprüfungen."
   ]
  },
  {
   "cell_type": "markdown",
   "metadata": {},
   "source": [
    "Vor dem Hintergrund des limitierten städtischen Prüfbudgets möchte das Audit Committee die für die Detailprüfungen notwendigen Ressourcen jedoch nicht unmittelbar bewilligen. Du bist deshalb angehalten, Deine Vorgehensweise und die getroffene Stichprobenauswahl dem Audit Committee zunächst verständlich und zugleich überzeugend zu präsentieren. "
   ]
  },
  {
   "cell_type": "markdown",
   "metadata": {},
   "source": [
    "## Daten und Datenquelle"
   ]
  },
  {
   "cell_type": "markdown",
   "metadata": {},
   "source": [
    "Kreditorische Zahlungen der Stadt Philadelphia beziehbar über die nachfolgende Webseite: "
   ]
  },
  {
   "cell_type": "markdown",
   "metadata": {},
   "source": [
    "[Philadelphia City Payments FY2017 - Data Overview](https://www.opendataphilly.org/dataset/city-payments)"
   ]
  },
  {
   "cell_type": "markdown",
   "metadata": {},
   "source": [
    "Download der Comma-Seperated-Values (CSV) Datei mit dem Namen „FY 2017 Detailed City Payments (CSV)“ unter der Rubrik „Data und Resources“ bzw. den nachfolgenden Link: "
   ]
  },
  {
   "cell_type": "markdown",
   "metadata": {},
   "source": [
    "[Philadelphia City Payments FY2017 - Data Download](https://phl.carto.com/api/v2/sql?q=SELECT+*+FROM+city_payments_fy2017&filename=city_payments_fy2017&format=csv&skipfields=cartodb_id,the_geom,the_geom_webmercator)"
   ]
  },
  {
   "cell_type": "markdown",
   "metadata": {},
   "source": [
    "(Dateigrösse ca. 45.4 MB)"
   ]
  },
  {
   "cell_type": "markdown",
   "metadata": {},
   "source": [
    "Die CSV Datei (Dateiname: city_payments_fy2017.csv) der Zahlungsdaten enthält insgesamt 238.894 Zahlungen und 16 Attribute. Eine detaillierte Beschreibung der Zahlungsattribute wurde unter nachfolgendem Link veröffentlicht: "
   ]
  },
  {
   "cell_type": "markdown",
   "metadata": {},
   "source": [
    "[Philadelphia City Payments FY2017 - Metadaten](https://metadata.phila.gov/index.html#home/datasetdetails/5c4243d6a074de085a899716/representationdetails/5c4243d7a074de085a89971a)"
   ]
  },
  {
   "cell_type": "markdown",
   "metadata": {
    "colab_type": "text",
    "id": "CZaa0qAnt8lY"
   },
   "source": [
    "## Aufgabenstellung"
   ]
  },
  {
   "cell_type": "markdown",
   "metadata": {
    "colab_type": "text",
    "id": "2yTCqemyt8la"
   },
   "source": [
    "Als Fachspezialist:in für revisorische Datenanalysen ist es Deine Aufgabe, eine repräsentative Stichprobenauswahl der Zahlungsbuchungen der Abteilung des „Managing Director‘s“ auszuwählen und die Auswahl dem Audit Committe zu präsentieren. Das Audit Committe als auch Deine Kolleg:innen verfügen aktuell noch über wenig Expertise im Bereich der revisorischen Datenanalyse und sind deshalb sehr an Deiner Vorgehensweise und Ergebnissen interessiert. "
   ]
  },
  {
   "cell_type": "markdown",
   "metadata": {},
   "source": [
    "### Teilaufgabe 1: Aufbereitung der Zahlungsattribute\n",
    "\n",
    "- Lade über den Downloadlink die Zahlungsdaten der Stadt Philadelphia.\n",
    "- Verifiziere die Vollständigkeit der erhaltenen Zahlungsdaten, d.h. Anzahl der erhaltenen Zahlungen (Zeilen) und Attribute (Spalten).\n",
    "- Extrahiere die Zahlungen des Departments „Managing Director‘s“ (Department 10) für das nachfolgende Analysevorgehen. \n",
    "- Treffe unter Berücksichtigung der Attributsausprägungen eine geeignete Attributauswahl für die zu erstellende Stichprobenauswahl.\n",
    "- Bereite die Attribute für die Anwendung eines ML Verfahrens auf, z.B. One-Hot Enkodieren die Attribute (vgl. Lab 05, Abschnitt 2)."
   ]
  },
  {
   "cell_type": "code",
   "execution_count": 1,
   "metadata": {
    "colab": {
     "base_uri": "https://localhost:8080/",
     "height": 70
    },
    "colab_type": "code",
    "id": "o3ShseCwt8lb",
    "outputId": "1254c7ff-5876-4508-8fde-5528e4d704f3"
   },
   "outputs": [],
   "source": [
    "# ***************************************************\n",
    "# INSERT YOUR SOLUTION/CODE HERE\n",
    "# ***************************************************"
   ]
  },
  {
   "cell_type": "markdown",
   "metadata": {},
   "source": [
    "### Teilaufgabe 2: Dimensionsreduktion der Zahlungsdaten\n",
    "\n",
    "- Reduziere die Dimensionalität der Zahlungen in einen zwei-dimensionalen Raum unter Verwendung eines Autoencoder Netzes (vgl. Lab 07).\n",
    "- [Alternative]: Durchführung einer Principal Component Analyse (PCA) zur Dimensionsreduktion der Zahlungen in den zwei-dimensionalen Raum.\n",
    "- Visualisiere das erhaltene Ergebnis der Dimensionsreduktion anhand von geeigneten bzw. aussagekräftigen Darstellungen."
   ]
  },
  {
   "cell_type": "code",
   "execution_count": 24,
   "metadata": {},
   "outputs": [],
   "source": [
    "# ***************************************************\n",
    "# INSERT YOUR SOLUTION/CODE HERE\n",
    "# ***************************************************"
   ]
  },
  {
   "cell_type": "markdown",
   "metadata": {
    "colab_type": "text",
    "id": "mFnbcu4yt8le"
   },
   "source": [
    "### Teilaufgabe 3: Clustering der Repräsentationen "
   ]
  },
  {
   "cell_type": "markdown",
   "metadata": {
    "colab": {},
    "colab_type": "code",
    "id": "uLbxWoZit8lf"
   },
   "source": [
    "- Clustere die erhaltenen Datenpunkte im zwei-dimensionalen Raum unter Verwendung des k-Mean Clustering Verfahrens (vgl. Lab 03, Abschnitt 3).\n",
    "- Optimiere die die Cluster Anzahl des k-Means Clustering Verfahrens anhand des „Elbow“-Verfahrens (vgl. Lab 03, Abschnitt 5).\n",
    "- Visualisiere das erhaltene Ergebnis des optimierten Clustering anhand von geeigneten bzw. aussagekräftigen Darstellungen."
   ]
  },
  {
   "cell_type": "code",
   "execution_count": 40,
   "metadata": {},
   "outputs": [],
   "source": [
    "## ***************************************************\n",
    "# INSERT YOUR SOLUTION/CODE HERE\n",
    "# ***************************************************"
   ]
  },
  {
   "cell_type": "markdown",
   "metadata": {
    "colab_type": "text",
    "id": "PsFqwDkYt8ln"
   },
   "source": [
    "### Teilaufgabe 4: Auswahl der Repräsentativen Stichprobe"
   ]
  },
  {
   "cell_type": "markdown",
   "metadata": {
    "colab": {},
    "colab_type": "code",
    "id": "dMH7Y9-Ht8lo"
   },
   "source": [
    "- Treffe auf Grundlage des Clustering Ergebnisses eine repräsentative Stichprobenauswahl der städtischen Zahlungsdaten.\n",
    "- Erstelle eine priorisierte Liste der einzelnen ausgewählten Stichproben für die zielgerichtete Abarbeitung bzw. Prüfung durch das Prüfungsteam.\n",
    "- Berücksichtige im Rahmen der Stichprobenauswahl auch mögliche Zahlungsanomalien bzw. ungewöhnliche Zahlungen."
   ]
  },
  {
   "cell_type": "code",
   "execution_count": 66,
   "metadata": {},
   "outputs": [],
   "source": [
    "# ***************************************************\n",
    "# INSERT YOUR SOLUTION/CODE HERE\n",
    "# ***************************************************"
   ]
  },
  {
   "cell_type": "markdown",
   "metadata": {},
   "source": [
    "### Teilaufgabe 5: Präsentation der Ergebnisse und Arbeitspapiere"
   ]
  },
  {
   "cell_type": "markdown",
   "metadata": {
    "colab_type": "text",
    "id": "_Z2tRqzFt8lu"
   },
   "source": [
    "- Erstelle eine aussagekräftige Präsentation (max. 8-10 Folien) für das Audit Committee bzw. die Stadtverwaltung der Stadt Philadelphia.\n",
    "- Erläutere die analytische Vorgehensweise und die ggf. getroffenen Annahmen zur Auswahl der repräsentativen Stichprobe.\n",
    "- Erläutere die Analyseergebnisse, die Stichprobenauswahl, gefundene Anomalien sowie etwaige Limitierungen des Analysevorgehens."
   ]
  },
  {
   "cell_type": "code",
   "execution_count": 61,
   "metadata": {
    "colab": {},
    "colab_type": "code",
    "id": "NzE1FzaSt8lu"
   },
   "outputs": [],
   "source": [
    "# ***************************************************\n",
    "# INSERT YOUR SOLUTION/CODE HERE\n",
    "# ***************************************************"
   ]
  },
  {
   "cell_type": "markdown",
   "metadata": {
    "colab_type": "text",
    "id": "n94u0rxat8su"
   },
   "source": [
    "## Arbeitspapiere & Abgabe"
   ]
  },
  {
   "cell_type": "markdown",
   "metadata": {
    "colab_type": "text",
    "id": "DCOEZj-it8sv"
   },
   "source": [
    "- **Abgabe:** bis 31.03.2023, 23:59 Central European Time (CET).  \n",
    "- **Artefakt 1:** Quellcode (dokumentiert) z.B. Jupyter Notebook, Python, oder R-Skripte.\n",
    "- **Artefakt 2:** Präsentation (max. 8-10 Folien) im Power-Point- oder PDF-Format.\n",
    "- **Einreichung:** Sharepoint Link der Frankfurt School (wird noch mitgeteilt).\n"
   ]
  },
  {
   "cell_type": "markdown",
   "metadata": {},
   "source": [
    "## Empfohlene Hilfsmittel"
   ]
  },
  {
   "cell_type": "markdown",
   "metadata": {},
   "source": [
    "- Seminarunterlagen vom 16.12.2022 (https://campus.frankfurt-school.de) \n",
    "- Jupyter Notebooks des Seminars (https://github.com/GitiHubi/CADS)\n",
    "- Google Colab (https://colab.research.google.com)\n",
    "- Scikit-Learn Beispiele (https://scikit-learn.org/stable/modules/decomposition.html)\n",
    "- Stackoverflow für Codebeispiele (https://stackoverflow.com)"
   ]
  },
  {
   "cell_type": "markdown",
   "metadata": {},
   "source": [
    "Im Falle evtl. Rückfragen meldet Euch gerne über die nachfolgende Mailadresse: marco.schreyer@unisg.ch. \n",
    "\n",
    "Das CADS Dozententeam wünscht Euch viel Erfolg und Happy Learning!"
   ]
  }
 ],
 "metadata": {
  "colab": {
   "collapsed_sections": [
    "eGwNwDKEt8lG",
    "D0Jnx-Ljt8lK",
    "CZaa0qAnt8lY",
    "mMSfpCPvt8l4",
    "n94u0rxat8su"
   ],
   "name": "lab_02.ipynb",
   "provenance": [],
   "toc_visible": true
  },
  "kernelspec": {
   "display_name": "Python 3 (ipykernel)",
   "language": "python",
   "name": "python3"
  },
  "language_info": {
   "codemirror_mode": {
    "name": "ipython",
    "version": 3
   },
   "file_extension": ".py",
   "mimetype": "text/x-python",
   "name": "python",
   "nbconvert_exporter": "python",
   "pygments_lexer": "ipython3",
   "version": "3.10.6"
  },
  "toc": {
   "base_numbering": 1,
   "nav_menu": {},
   "number_sections": false,
   "sideBar": true,
   "skip_h1_title": false,
   "title_cell": "Table of Contents",
   "title_sidebar": "Contents",
   "toc_cell": false,
   "toc_position": {
    "height": "calc(100% - 180px)",
    "left": "10px",
    "top": "150px",
    "width": "289px"
   },
   "toc_section_display": true,
   "toc_window_display": true
  }
 },
 "nbformat": 4,
 "nbformat_minor": 1
}
